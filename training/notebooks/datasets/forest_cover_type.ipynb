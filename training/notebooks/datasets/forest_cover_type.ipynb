{
 "cells": [
  {
   "cell_type": "code",
   "execution_count": 1,
   "outputs": [],
   "source": [
    "import numpy as np\n",
    "import pandas as pd\n",
    "from pandasgui import show\n",
    "from sklearn import datasets\n",
    "from sklearn.utils import Bunch\n",
    "from sklearn.preprocessing import LabelEncoder\n",
    "from sklearn.model_selection import train_test_split"
   ],
   "metadata": {
    "collapsed": false
   }
  },
  {
   "cell_type": "code",
   "execution_count": 2,
   "outputs": [],
   "source": [
    "bunch: Bunch = datasets.fetch_covtype(download_if_missing=True)\n",
    "data = pd.DataFrame(\n",
    "    np.hstack([bunch.data, bunch.target.reshape((-1, 1))]),\n",
    "    columns=bunch.feature_names + bunch.target_names\n",
    ")"
   ],
   "metadata": {
    "collapsed": false
   }
  },
  {
   "cell_type": "code",
   "execution_count": null,
   "outputs": [],
   "source": [
    "show(data)"
   ],
   "metadata": {
    "collapsed": false,
    "pycharm": {
     "is_executing": true
    }
   }
  },
  {
   "cell_type": "code",
   "execution_count": 4,
   "outputs": [],
   "source": [
    "features = []\n",
    "label: str = 'Cover_Type'\n",
    "for feature in data.columns:\n",
    "    if feature.startswith('Wilderness_Area') or feature.startswith('Soil_Type'):\n",
    "        data[feature] = data[feature].astype(int)\n",
    "    elif feature == label:\n",
    "        data[feature] = LabelEncoder().fit_transform(data[feature].astype(int))\n",
    "    else:\n",
    "        ..."
   ],
   "metadata": {
    "collapsed": false
   }
  },
  {
   "cell_type": "code",
   "execution_count": null,
   "outputs": [],
   "source": [
    "_orig_size = len(data)\n",
    "data.dropna(axis=0, how='any', inplace=True)\n",
    "print(f\"DropNA: {_orig_size - len(data)} instances have been removed.\")"
   ],
   "metadata": {
    "collapsed": false,
    "pycharm": {
     "is_executing": true
    }
   }
  },
  {
   "cell_type": "code",
   "execution_count": null,
   "outputs": [],
   "source": [
    "bunch.feature_names"
   ],
   "metadata": {
    "collapsed": false,
    "pycharm": {
     "is_executing": true
    }
   }
  },
  {
   "cell_type": "code",
   "execution_count": null,
   "outputs": [],
   "source": [
    "bunch.target_names"
   ],
   "metadata": {
    "collapsed": false,
    "pycharm": {
     "is_executing": true
    }
   }
  },
  {
   "cell_type": "code",
   "execution_count": 8,
   "outputs": [],
   "source": [
    "# https://github.com/RAMitchell/GBM-Benchmarks/blob/a0bbed08c918b0a82e9a5e2207d1f43134b445e0/benchmark.py#L150\n",
    "test_size = 0.2\n",
    "validation_size = 0.2\n",
    "\n",
    "train, test = train_test_split(data, test_size=test_size, random_state=0)\n",
    "train, valid = train_test_split(train, test_size=validation_size / (1.0 - test_size), random_state=0)"
   ],
   "metadata": {
    "collapsed": false
   }
  },
  {
   "cell_type": "code",
   "execution_count": null,
   "outputs": [],
   "source": [
    "from xtime.estimators import Estimator\n",
    "from xtime.ml import TaskType, ClassificationTask\n",
    "from xtime.datasets import (Dataset, DatasetSplit, DatasetMetadata)\n",
    "from sklearn.dummy import DummyClassifier\n",
    "\n",
    "dataset = Dataset(\n",
    "    metadata=DatasetMetadata(\n",
    "        name='Forest_Cover_Type',\n",
    "        version='NA',\n",
    "        task=ClassificationTask(type_=TaskType.BINARY_CLASSIFICATION, num_classes=2),\n",
    "    ),\n",
    "    splits={\n",
    "        'train': DatasetSplit(x=train.drop(label, axis=1, inplace=False), y=train[label]),\n",
    "        'valid': DatasetSplit(x=train.drop(label, axis=1, inplace=False), y=train[label]),\n",
    "        'test': DatasetSplit(x=test.drop(label, axis=1, inplace=False), y=test[label])\n",
    "    }\n",
    ")\n",
    "\n",
    "estimator = Estimator()\n",
    "estimator.model = DummyClassifier(strategy=\"prior\").fit(dataset.splits['train'].x, dataset.splits['train'].y)\n",
    "\n",
    "metrics = estimator.evaluate(dataset)\n",
    "print(metrics)"
   ],
   "metadata": {
    "collapsed": false,
    "pycharm": {
     "is_executing": true
    }
   }
  }
 ],
 "metadata": {
  "kernelspec": {
   "display_name": "Python 3",
   "language": "python",
   "name": "python3"
  },
  "language_info": {
   "codemirror_mode": {
    "name": "ipython",
    "version": 2
   },
   "file_extension": ".py",
   "mimetype": "text/x-python",
   "name": "python",
   "nbconvert_exporter": "python",
   "pygments_lexer": "ipython2",
   "version": "2.7.6"
  }
 },
 "nbformat": 4,
 "nbformat_minor": 0
}
