{
 "cells": [
  {
   "cell_type": "code",
   "execution_count": null,
   "metadata": {
    "collapsed": false,
    "jupyter": {
     "outputs_hidden": false
    }
   },
   "outputs": [],
   "source": [
    "import numpy as np\n",
    "import pandas as pd\n",
    "from sklearn import datasets\n",
    "from sklearn.model_selection import train_test_split\n",
    "from sklearn.preprocessing import LabelEncoder\n",
    "from sklearn.utils import Bunch"
   ]
  },
  {
   "cell_type": "code",
   "execution_count": null,
   "metadata": {},
   "outputs": [],
   "source": [
    "# This does not work on headless Linux systems.\n",
    "from pandasgui import show"
   ]
  },
  {
   "cell_type": "code",
   "execution_count": null,
   "metadata": {
    "collapsed": false,
    "jupyter": {
     "outputs_hidden": false
    }
   },
   "outputs": [],
   "source": [
    "bunch: Bunch = datasets.fetch_covtype(download_if_missing=True)\n",
    "data = pd.DataFrame(\n",
    "    np.hstack([bunch.data, bunch.target.reshape((-1, 1))]), columns=bunch.feature_names + bunch.target_names\n",
    ")"
   ]
  },
  {
   "cell_type": "code",
   "execution_count": null,
   "metadata": {
    "collapsed": false,
    "jupyter": {
     "outputs_hidden": false
    },
    "pycharm": {
     "is_executing": true
    }
   },
   "outputs": [],
   "source": [
    "show(data)"
   ]
  },
  {
   "cell_type": "code",
   "execution_count": null,
   "metadata": {
    "collapsed": false,
    "jupyter": {
     "outputs_hidden": false
    }
   },
   "outputs": [],
   "source": [
    "from xtime.ml import Feature, FeatureType\n",
    "\n",
    "# In this dataset two types of features are present - continuous and binary. It seems that the binary features\n",
    "# are one-hot encoded features for original categorical features - Wilderness_Area (4 values) and\n",
    "# Soil_Type (40 values). Originally, all features have `float` data type.\n",
    "features = []\n",
    "label: str = \"Cover_Type\"\n",
    "for feature in data.columns:\n",
    "    if feature.startswith(\"Wilderness_Area\") or feature.startswith(\"Soil_Type\"):\n",
    "        data[feature] = data[feature].astype(int)\n",
    "        features.append(Feature(feature, FeatureType.BINARY))\n",
    "    elif feature == label:\n",
    "        data[feature] = LabelEncoder().fit_transform(data[feature].astype(int))\n",
    "    else:\n",
    "        features.append(Feature(feature, FeatureType.CONTINUOUS, cardinality=int(data[feature].nunique())))"
   ]
  },
  {
   "cell_type": "code",
   "execution_count": null,
   "metadata": {
    "collapsed": false,
    "jupyter": {
     "outputs_hidden": false
    },
    "pycharm": {
     "is_executing": true
    }
   },
   "outputs": [],
   "source": [
    "_orig_size = len(data)\n",
    "data.dropna(axis=0, how=\"any\", inplace=True)\n",
    "print(f\"DropNA: {_orig_size - len(data)} instances have been removed.\")"
   ]
  },
  {
   "cell_type": "code",
   "execution_count": null,
   "metadata": {
    "collapsed": false,
    "jupyter": {
     "outputs_hidden": false
    },
    "pycharm": {
     "is_executing": true
    }
   },
   "outputs": [],
   "source": [
    "bunch.feature_names"
   ]
  },
  {
   "cell_type": "code",
   "execution_count": null,
   "metadata": {
    "collapsed": false,
    "jupyter": {
     "outputs_hidden": false
    },
    "pycharm": {
     "is_executing": true
    }
   },
   "outputs": [],
   "source": [
    "bunch.target_names"
   ]
  },
  {
   "cell_type": "code",
   "execution_count": null,
   "metadata": {
    "collapsed": false,
    "jupyter": {
     "outputs_hidden": false
    }
   },
   "outputs": [],
   "source": [
    "# https://github.com/RAMitchell/GBM-Benchmarks/blob/a0bbed08c918b0a82e9a5e2207d1f43134b445e0/benchmark.py#L150\n",
    "test_size = 0.2\n",
    "validation_size = 0.2\n",
    "\n",
    "train, test = train_test_split(data, test_size=test_size, random_state=0)\n",
    "train, valid = train_test_split(train, test_size=validation_size / (1.0 - test_size), random_state=0)"
   ]
  },
  {
   "cell_type": "code",
   "execution_count": null,
   "metadata": {
    "collapsed": false,
    "jupyter": {
     "outputs_hidden": false
    },
    "pycharm": {
     "is_executing": true
    }
   },
   "outputs": [],
   "source": [
    "from sklearn.dummy import DummyClassifier\n",
    "\n",
    "from xtime.datasets import Dataset, DatasetMetadata, DatasetSplit\n",
    "from xtime.estimators import Estimator\n",
    "from xtime.ml import ClassificationTask, TaskType\n",
    "\n",
    "dataset = Dataset(\n",
    "    metadata=DatasetMetadata(\n",
    "        name=\"Forest_Cover_Type\",\n",
    "        version=\"NA\",\n",
    "        features=features,\n",
    "        task=ClassificationTask(TaskType.MULTI_CLASS_CLASSIFICATION, num_classes=7),\n",
    "    ),\n",
    "    splits={\n",
    "        \"train\": DatasetSplit(x=train.drop(label, axis=1, inplace=False), y=train[label]),\n",
    "        \"valid\": DatasetSplit(x=valid.drop(label, axis=1, inplace=False), y=valid[label]),\n",
    "        \"test\": DatasetSplit(x=test.drop(label, axis=1, inplace=False), y=test[label]),\n",
    "    },\n",
    ")\n",
    "\n",
    "estimator = Estimator()\n",
    "estimator.model = DummyClassifier(strategy=\"prior\").fit(dataset.splits[\"train\"].x, dataset.splits[\"train\"].y)\n",
    "\n",
    "metrics = estimator.evaluate(dataset)\n",
    "print(metrics)"
   ]
  }
 ],
 "metadata": {
  "kernelspec": {
   "display_name": "Python 3 (ipykernel)",
   "language": "python",
   "name": "python3"
  },
  "language_info": {
   "codemirror_mode": {
    "name": "ipython",
    "version": 3
   },
   "file_extension": ".py",
   "mimetype": "text/x-python",
   "name": "python",
   "nbconvert_exporter": "python",
   "pygments_lexer": "ipython3",
   "version": "3.9.18"
  }
 },
 "nbformat": 4,
 "nbformat_minor": 4
}
