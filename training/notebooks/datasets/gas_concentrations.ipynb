{
 "cells": [
  {
   "cell_type": "code",
   "execution_count": 3,
   "outputs": [],
   "source": [
    "import pandas as pd\n",
    "from pandasgui import show\n",
    "from sklearn.preprocessing import LabelEncoder\n",
    "from sklearn.model_selection import train_test_split\n",
    "from openml import OpenMLDataset\n",
    "from openml.datasets import get_dataset as get_openml_dataset"
   ],
   "metadata": {
    "collapsed": false
   }
  },
  {
   "cell_type": "code",
   "execution_count": 4,
   "outputs": [],
   "source": [
    "# Fetch dataset and its description from OpenML. Will be cached in ${HOME}/.openml\n",
    "data: OpenMLDataset = get_openml_dataset(\n",
    "    dataset_id=\"gas-drift-different-concentrations\",\n",
    "    version=1,\n",
    "    error_if_multiple=True,\n",
    "    download_data=True\n",
    ")\n",
    "\n",
    "# Load from local cache\n",
    "x, y, categorical_indicator, attributed_names = data.get_data(\n",
    "    target=data.default_target_attribute,\n",
    "    dataset_format='dataframe'\n",
    ")"
   ],
   "metadata": {
    "collapsed": false
   }
  },
  {
   "cell_type": "code",
   "execution_count": null,
   "outputs": [],
   "source": [
    "# Analyze it with Pandas GUI library\n",
    "show(x)\n",
    "# show(y)"
   ],
   "metadata": {
    "collapsed": false,
    "pycharm": {
     "is_executing": true
    }
   }
  },
  {
   "cell_type": "code",
   "execution_count": 6,
   "outputs": [],
   "source": [
    "y = pd.Series(LabelEncoder().fit_transform(y), index=y.index, name=y.name)"
   ],
   "metadata": {
    "collapsed": false
   }
  },
  {
   "cell_type": "code",
   "execution_count": 7,
   "outputs": [],
   "source": [
    "test_size = 0.2\n",
    "validation_size = 0.1\n",
    "\n",
    "train_x, test_x, train_y, test_y = train_test_split(\n",
    "    x, y, test_size=test_size, random_state=1, shuffle=True\n",
    ")\n",
    "train_x, valid_x, train_y, valid_y = train_test_split(\n",
    "    train_x, train_y, test_size=validation_size / (1.0 - test_size), random_state=1, shuffle=True\n",
    ")"
   ],
   "metadata": {
    "collapsed": false
   }
  },
  {
   "cell_type": "code",
   "execution_count": null,
   "outputs": [],
   "source": [
    "from xtime.estimators import Estimator\n",
    "from xtime.ml import TaskType, ClassificationTask\n",
    "from xtime.datasets import (Dataset, DatasetSplit, DatasetMetadata)\n",
    "from sklearn.dummy import DummyClassifier\n",
    "\n",
    "dataset = Dataset(\n",
    "    metadata=DatasetMetadata(\n",
    "        name='gas_concentrations',\n",
    "        version='NA',\n",
    "        task=ClassificationTask(type_=TaskType.MULTI_CLASS_CLASSIFICATION, num_classes=6),\n",
    "    ),\n",
    "    splits={\n",
    "        'train': DatasetSplit(x=train_x, y=train_y),\n",
    "        'valid': DatasetSplit(x=valid_x, y=valid_y),\n",
    "        'test': DatasetSplit(x=test_x, y=test_y)\n",
    "    }\n",
    ")\n",
    "\n",
    "estimator = Estimator()\n",
    "estimator.model = DummyClassifier(strategy=\"prior\").fit(dataset.splits['train'].x, dataset.splits['train'].y)\n",
    "\n",
    "metrics = estimator.evaluate(dataset)\n",
    "print(metrics)"
   ],
   "metadata": {
    "collapsed": false,
    "pycharm": {
     "is_executing": true
    }
   }
  }
 ],
 "metadata": {
  "kernelspec": {
   "display_name": "Python 3",
   "language": "python",
   "name": "python3"
  },
  "language_info": {
   "codemirror_mode": {
    "name": "ipython",
    "version": 2
   },
   "file_extension": ".py",
   "mimetype": "text/x-python",
   "name": "python",
   "nbconvert_exporter": "python",
   "pygments_lexer": "ipython2",
   "version": "2.7.6"
  }
 },
 "nbformat": 4,
 "nbformat_minor": 0
}
