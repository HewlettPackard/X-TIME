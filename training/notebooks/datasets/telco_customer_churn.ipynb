{
 "cells": [
  {
   "cell_type": "code",
   "execution_count": null,
   "metadata": {
    "collapsed": false,
    "jupyter": {
     "outputs_hidden": false
    }
   },
   "outputs": [],
   "source": [
    "from pathlib import Path\n",
    "\n",
    "import pandas as pd\n",
    "from sklearn.model_selection import train_test_split\n",
    "from sklearn.preprocessing import LabelEncoder"
   ]
  },
  {
   "cell_type": "code",
   "execution_count": null,
   "metadata": {},
   "outputs": [],
   "source": [
    "# This does not work on headless Linux systems.\n",
    "from pandasgui import show"
   ]
  },
  {
   "cell_type": "code",
   "execution_count": null,
   "metadata": {
    "collapsed": false,
    "jupyter": {
     "outputs_hidden": false
    }
   },
   "outputs": [],
   "source": [
    "data_dir = Path(\"~/.cache/kaggle/datasets/blastchar\").expanduser()\n",
    "file_name = \"WA_Fn-UseC_-Telco-Customer-Churn.csv\"\n",
    "\n",
    "data_path = data_dir / file_name\n",
    "data: pd.DataFrame = pd.read_csv(data_path.as_posix())"
   ]
  },
  {
   "cell_type": "code",
   "execution_count": null,
   "metadata": {
    "collapsed": false,
    "jupyter": {
     "outputs_hidden": false
    },
    "pycharm": {
     "is_executing": true
    }
   },
   "outputs": [],
   "source": [
    "# Analyze it with Pandas GUI library\n",
    "show(data)"
   ]
  },
  {
   "cell_type": "code",
   "execution_count": null,
   "metadata": {
    "collapsed": false,
    "jupyter": {
     "outputs_hidden": false
    },
    "pycharm": {
     "is_executing": true
    }
   },
   "outputs": [],
   "source": [
    "from sklearn.preprocessing import OneHotEncoder\n",
    "\n",
    "_ohe: OneHotEncoder = OneHotEncoder(sparse=False, dtype=int).fit(data[\"MultipleLines\"].values.reshape(-1, 1))\n",
    "print(_ohe.categories_)"
   ]
  },
  {
   "cell_type": "code",
   "execution_count": null,
   "metadata": {
    "collapsed": false,
    "jupyter": {
     "outputs_hidden": false
    }
   },
   "outputs": [],
   "source": [
    "_df = pd.DataFrame(\n",
    "    _ohe.transform(data[\"MultipleLines\"].values.reshape(-1, 1)),\n",
    "    columns=[f\"MultipleLines_{i}\" for i in _ohe.categories_[0]],\n",
    ")"
   ]
  },
  {
   "cell_type": "code",
   "execution_count": null,
   "metadata": {
    "collapsed": false,
    "jupyter": {
     "outputs_hidden": false
    },
    "pycharm": {
     "is_executing": true
    }
   },
   "outputs": [],
   "source": [
    "show(pd.concat([_df, _df], axis=1))"
   ]
  },
  {
   "cell_type": "code",
   "execution_count": null,
   "metadata": {
    "collapsed": false,
    "jupyter": {
     "outputs_hidden": false
    },
    "pycharm": {
     "is_executing": true
    }
   },
   "outputs": [],
   "source": [
    "[f\"MultipleLines_{i}\" for i in _ohe.categories_[0]]"
   ]
  },
  {
   "cell_type": "code",
   "execution_count": null,
   "metadata": {
    "collapsed": false,
    "jupyter": {
     "outputs_hidden": false
    },
    "pycharm": {
     "is_executing": true
    }
   },
   "outputs": [],
   "source": [
    "# Pretty much all fields are categorical, except `customerID`. This one needs to be removed.\n",
    "data.drop(\"customerID\", axis=1, inplace=True)\n",
    "\n",
    "# This field has type int: convert to float\n",
    "data[\"tenure\"] = data[\"tenure\"].astype(float)\n",
    "\n",
    "# This field is object, convert to floating point numbers and remove nans\n",
    "_orig_size = len(data)\n",
    "data[\"TotalCharges\"] = pd.to_numeric(data[\"TotalCharges\"], errors=\"coerce\")\n",
    "data.dropna(axis=0, how=\"any\", inplace=True)\n",
    "print(f\"While casting TotalCharges to floats, {_orig_size - len(data)} instances have been removed.\")"
   ]
  },
  {
   "cell_type": "code",
   "execution_count": null,
   "metadata": {
    "collapsed": false,
    "jupyter": {
     "outputs_hidden": false
    }
   },
   "outputs": [],
   "source": [
    "# binary 0/1 (Churn - label)\n",
    "data[\"gender\"] = LabelEncoder().fit_transform(data[\"gender\"])\n",
    "for feature in [\"Partner\", \"Dependents\", \"PhoneService\", \"PaperlessBilling\", \"Churn\"]:\n",
    "    data[feature].replace({\"No\": 0, \"Yes\": 1}, inplace=True)\n",
    "\n",
    "# categorical 0/1/2 or 0/1/2/3/4 (PaymentMethod)\n",
    "for feature in [\n",
    "    \"MultipleLines\",\n",
    "    \"InternetService\",\n",
    "    \"OnlineSecurity\",\n",
    "    \"OnlineBackup\",\n",
    "    \"DeviceProtection\",\n",
    "    \"TechSupport\",\n",
    "    \"StreamingTV\",\n",
    "    \"StreamingMovies\",\n",
    "    \"Contract\",\n",
    "    \"PaymentMethod\",\n",
    "]:\n",
    "    data[feature] = LabelEncoder().fit_transform(data[feature])"
   ]
  },
  {
   "cell_type": "code",
   "execution_count": null,
   "metadata": {
    "collapsed": false,
    "jupyter": {
     "outputs_hidden": false
    }
   },
   "outputs": [],
   "source": [
    "label: str = \"Churn\"\n",
    "train, valid = train_test_split(data, train_size=0.8, random_state=0, stratify=data[label])"
   ]
  },
  {
   "cell_type": "code",
   "execution_count": null,
   "metadata": {
    "collapsed": false,
    "jupyter": {
     "outputs_hidden": false
    },
    "pycharm": {
     "is_executing": true
    }
   },
   "outputs": [],
   "source": [
    "from sklearn.dummy import DummyClassifier\n",
    "\n",
    "from xtime.datasets import Dataset, DatasetMetadata, DatasetSplit\n",
    "from xtime.estimators import Estimator\n",
    "from xtime.ml import ClassificationTask, Feature, FeatureType, TaskType\n",
    "\n",
    "features = []\n",
    "for feature in [\"gender\", \"SeniorCitizen\", \"Partner\", \"Dependents\"]:\n",
    "    features.append(Feature(feature, FeatureType.BINARY))\n",
    "features.append(Feature(\"tenure\", FeatureType.CONTINUOUS, cardinality=int(data[\"tenure\"].nunique())))\n",
    "features.append(Feature(\"PhoneService\", FeatureType.BINARY))\n",
    "for feature in [\n",
    "    \"MultipleLines\",\n",
    "    \"InternetService\",\n",
    "    \"OnlineSecurity\",\n",
    "    \"OnlineBackup\",\n",
    "    \"DeviceProtection\",\n",
    "    \"TechSupport\",\n",
    "    \"StreamingTV\",\n",
    "    \"StreamingMovies\",\n",
    "    \"Contract\",\n",
    "]:\n",
    "    features.append(Feature(feature, FeatureType.NOMINAL, cardinality=3))\n",
    "features.append(Feature(\"PaperlessBilling\", FeatureType.BINARY))\n",
    "features.append(Feature(\"PaymentMethod\", FeatureType.NOMINAL, cardinality=4))\n",
    "for feature in [\"MonthlyCharges\", \"TotalCharges\"]:\n",
    "    features.append(Feature(feature, FeatureType.CONTINUOUS, cardinality=int(data[feature].nunique())))\n",
    "\n",
    "dataset = Dataset(\n",
    "    metadata=DatasetMetadata(\n",
    "        name=\"telco_customer_churn\",\n",
    "        version=\"NA\",\n",
    "        features=features,\n",
    "        task=ClassificationTask(type_=TaskType.BINARY_CLASSIFICATION),\n",
    "    ),\n",
    "    splits={\n",
    "        \"train\": DatasetSplit(x=train.drop(label, axis=1, inplace=False), y=train[label]),\n",
    "        \"valid\": DatasetSplit(x=valid.drop(label, axis=1, inplace=False), y=valid[label]),\n",
    "    },\n",
    ")\n",
    "\n",
    "estimator = Estimator()\n",
    "estimator.model = DummyClassifier(strategy=\"prior\").fit(dataset.splits[\"train\"].x, dataset.splits[\"train\"].y)\n",
    "\n",
    "metrics = estimator.evaluate(dataset)\n",
    "print(metrics)"
   ]
  }
 ],
 "metadata": {
  "kernelspec": {
   "display_name": "Python 3 (ipykernel)",
   "language": "python",
   "name": "python3"
  },
  "language_info": {
   "codemirror_mode": {
    "name": "ipython",
    "version": 3
   },
   "file_extension": ".py",
   "mimetype": "text/x-python",
   "name": "python",
   "nbconvert_exporter": "python",
   "pygments_lexer": "ipython3",
   "version": "3.9.18"
  }
 },
 "nbformat": 4,
 "nbformat_minor": 4
}
