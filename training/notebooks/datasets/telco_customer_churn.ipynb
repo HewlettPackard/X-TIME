{
 "cells": [
  {
   "cell_type": "code",
   "execution_count": 1,
   "outputs": [],
   "source": [
    "from pathlib import Path\n",
    "import pandas as pd\n",
    "from pandasgui import show\n",
    "from sklearn.preprocessing import LabelEncoder\n",
    "from sklearn.model_selection import train_test_split"
   ],
   "metadata": {
    "collapsed": false
   }
  },
  {
   "cell_type": "code",
   "execution_count": 2,
   "outputs": [],
   "source": [
    "data_dir = Path('~/.cache/kaggle/datasets/blastchar').expanduser()\n",
    "file_name = 'WA_Fn-UseC_-Telco-Customer-Churn.csv'\n",
    "\n",
    "data_path = data_dir / file_name\n",
    "data: pd.DataFrame = pd.read_csv(data_path.as_posix())"
   ],
   "metadata": {
    "collapsed": false
   }
  },
  {
   "cell_type": "code",
   "execution_count": null,
   "outputs": [],
   "source": [
    "# Analyze it with Pandas GUI library\n",
    "show(data)"
   ],
   "metadata": {
    "collapsed": false,
    "pycharm": {
     "is_executing": true
    }
   }
  },
  {
   "cell_type": "code",
   "execution_count": null,
   "outputs": [],
   "source": [
    "from sklearn.preprocessing import OneHotEncoder\n",
    "_ohe: OneHotEncoder = OneHotEncoder(sparse=False, dtype=int).fit(data['MultipleLines'].values.reshape(-1, 1))\n",
    "print(_ohe.categories_)"
   ],
   "metadata": {
    "collapsed": false,
    "pycharm": {
     "is_executing": true
    }
   }
  },
  {
   "cell_type": "code",
   "execution_count": 5,
   "outputs": [],
   "source": [
    "_df = pd.DataFrame(\n",
    "    _ohe.transform(data['MultipleLines'].values.reshape(-1, 1)),\n",
    "    columns=[f'MultipleLines_{i}' for i in _ohe.categories_[0]]\n",
    ")"
   ],
   "metadata": {
    "collapsed": false
   }
  },
  {
   "cell_type": "code",
   "execution_count": null,
   "outputs": [],
   "source": [
    "show(pd.concat([_df, _df], axis=1))"
   ],
   "metadata": {
    "collapsed": false,
    "pycharm": {
     "is_executing": true
    }
   }
  },
  {
   "cell_type": "code",
   "execution_count": null,
   "outputs": [],
   "source": [
    "[f'MultipleLines_{i}' for i in _ohe.categories_[0]]"
   ],
   "metadata": {
    "collapsed": false,
    "pycharm": {
     "is_executing": true
    }
   }
  },
  {
   "cell_type": "code",
   "execution_count": null,
   "outputs": [],
   "source": [
    "# Pretty much all fields are categorical, except `customerID`. This one needs to be removed.\n",
    "data.drop('customerID', axis=1, inplace=True)\n",
    "\n",
    "# This field has type int: convert to float\n",
    "data['tenure'] = data['tenure'].astype(float)\n",
    "\n",
    "# This field is object, convert to floating point numbers and remove nans\n",
    "_orig_size = len(data)\n",
    "data['TotalCharges'] = pd.to_numeric(data['TotalCharges'], errors='coerce')\n",
    "data.dropna(axis=0, how='any', inplace=True)\n",
    "print(f\"While casting TotalCharges to floats, {_orig_size - len(data)} instances have been removed.\")"
   ],
   "metadata": {
    "collapsed": false,
    "pycharm": {
     "is_executing": true
    }
   }
  },
  {
   "cell_type": "code",
   "execution_count": 9,
   "outputs": [],
   "source": [
    "# binary 0/1 (Churn - label)\n",
    "data['gender'] = LabelEncoder().fit_transform(data['gender'])\n",
    "for feature in ['Partner', 'Dependents', 'PhoneService', 'PaperlessBilling', 'Churn']:\n",
    "    data[feature].replace({'No': 0, 'Yes': 1}, inplace=True)\n",
    "\n",
    "# categorical 0/1/2 or 0/1/2/3/4 (PaymentMethod)\n",
    "for feature in ['MultipleLines', 'InternetService', 'OnlineSecurity', 'OnlineBackup', 'DeviceProtection', 'TechSupport', 'StreamingTV', 'StreamingMovies', 'Contract', 'PaymentMethod']:\n",
    "    data[feature] = LabelEncoder().fit_transform(data[feature])"
   ],
   "metadata": {
    "collapsed": false
   }
  },
  {
   "cell_type": "code",
   "execution_count": 10,
   "outputs": [],
   "source": [
    "label: str = 'Churn'\n",
    "train, valid = train_test_split(data, train_size=0.8, random_state=0, stratify=data[label])"
   ],
   "metadata": {
    "collapsed": false
   }
  },
  {
   "cell_type": "code",
   "execution_count": null,
   "outputs": [],
   "source": [
    "from xtime.estimators import Estimator\n",
    "from xtime.ml import TaskType, ClassificationTask\n",
    "from xtime.datasets import (Dataset, DatasetSplit, DatasetMetadata)\n",
    "from sklearn.dummy import DummyClassifier\n",
    "\n",
    "dataset = Dataset(\n",
    "    metadata=DatasetMetadata(\n",
    "        name='telco_customer_churn',\n",
    "        version='NA',\n",
    "        task=ClassificationTask(type_=TaskType.BINARY_CLASSIFICATION),\n",
    "    ),\n",
    "    splits={\n",
    "        'train': DatasetSplit(x=train.drop(label, axis=1, inplace=False), y=train[label]),\n",
    "        'valid': DatasetSplit(x=valid.drop(label, axis=1, inplace=False), y=valid[label])\n",
    "    }\n",
    ")\n",
    "\n",
    "estimator = Estimator()\n",
    "estimator.model = DummyClassifier(strategy=\"prior\").fit(dataset.splits['train'].x, dataset.splits['train'].y)\n",
    "\n",
    "metrics = estimator.evaluate(dataset)\n",
    "print(metrics)"
   ],
   "metadata": {
    "collapsed": false,
    "pycharm": {
     "is_executing": true
    }
   }
  }
 ],
 "metadata": {
  "kernelspec": {
   "display_name": "Python 3",
   "language": "python",
   "name": "python3"
  },
  "language_info": {
   "codemirror_mode": {
    "name": "ipython",
    "version": 2
   },
   "file_extension": ".py",
   "mimetype": "text/x-python",
   "name": "python",
   "nbconvert_exporter": "python",
   "pygments_lexer": "ipython2",
   "version": "2.7.6"
  }
 },
 "nbformat": 4,
 "nbformat_minor": 0
}
