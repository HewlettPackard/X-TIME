{
 "cells": [
  {
   "cell_type": "code",
   "execution_count": 1,
   "metadata": {
    "collapsed": false
   },
   "outputs": [],
   "source": [
    "from pathlib import Path\n",
    "\n",
    "import pandas as pd\n",
    "from pandasgui import show\n",
    "\n",
    "from xtime.datasets._year_prediction_msd import YearPredictionMSDBuilder"
   ]
  },
  {
   "cell_type": "code",
   "execution_count": 2,
   "metadata": {
    "collapsed": false
   },
   "outputs": [],
   "source": [
    "data_dir = Path(\"~/.cache/uci/datasets/00203\").expanduser()\n",
    "file_name = \"YearPredictionMSD.txt.zip\"\n",
    "if not (data_dir / file_name).is_file():\n",
    "    YearPredictionMSDBuilder.download(data_dir, file_name)"
   ]
  },
  {
   "cell_type": "code",
   "execution_count": 3,
   "metadata": {
    "collapsed": false
   },
   "outputs": [],
   "source": [
    "# All columns a numerical columns (continuous features). First column is the target column (year to predict / classify).\n",
    "data: pd.DataFrame = pd.read_csv((data_dir / file_name).as_posix(), header=None)"
   ]
  },
  {
   "cell_type": "code",
   "execution_count": 4,
   "metadata": {
    "collapsed": false
   },
   "outputs": [],
   "source": [
    "label = \"Year\""
   ]
  },
  {
   "cell_type": "code",
   "execution_count": 5,
   "metadata": {
    "collapsed": false
   },
   "outputs": [],
   "source": [
    "# Dataset comes without columns. 90 attributes, 12 = timbre average, 78 = timbre covariance\n",
    "# The first value is the year (target), ranging from 1922 to 2011.\n",
    "columns = [\"Year\"]\n",
    "for i in range(12):\n",
    "    columns.append(f\"TimbreAvg_{i}\")\n",
    "for i in range(78):\n",
    "    columns.append(f\"TimbreCov_{i}\")\n",
    "assert len(columns) == 91, f\"Fix me. Length = {len(columns)}\"\n",
    "\n",
    "data.columns = columns"
   ]
  },
  {
   "cell_type": "code",
   "execution_count": null,
   "metadata": {
    "collapsed": false,
    "pycharm": {
     "is_executing": true
    }
   },
   "outputs": [],
   "source": [
    "show(data)"
   ]
  },
  {
   "cell_type": "markdown",
   "metadata": {
    "collapsed": false
   },
   "source": [
    "According to dataset [documentation](https://archive.ics.uci.edu/ml/datasets/yearpredictionmsd):\n",
    "> You should respect the following train / test split:\n",
    "> - train: first 463,715 examples\n",
    "> - test: last 51,630 examples\n",
    ">\n",
    "> It avoids the 'producer effect' by making sure no song from a given artist ends up in both the train and test set."
   ]
  },
  {
   "cell_type": "code",
   "execution_count": 7,
   "metadata": {
    "collapsed": false
   },
   "outputs": [],
   "source": [
    "train: pd.DataFrame = data.iloc[0:463715, :]\n",
    "test: pd.DataFrame = data.iloc[-51630:, :]"
   ]
  },
  {
   "cell_type": "code",
   "execution_count": null,
   "metadata": {
    "collapsed": false,
    "pycharm": {
     "is_executing": true
    }
   },
   "outputs": [],
   "source": [
    "print(f\"train = {train.shape} test = {test.shape}\")"
   ]
  },
  {
   "cell_type": "code",
   "execution_count": null,
   "metadata": {
    "collapsed": false,
    "pycharm": {
     "is_executing": true
    }
   },
   "outputs": [],
   "source": [
    "from sklearn.dummy import DummyRegressor\n",
    "\n",
    "from xtime.datasets import Dataset, DatasetMetadata, DatasetSplit\n",
    "from xtime.estimators import Estimator\n",
    "from xtime.ml import RegressionTask, TaskType\n",
    "\n",
    "dataset = Dataset(\n",
    "    metadata=DatasetMetadata(\n",
    "        name=\"year_prediction_msd\",\n",
    "        version=\"NA\",\n",
    "        task=RegressionTask(ttype=TaskType.REGRESSION),\n",
    "    ),\n",
    "    splits={\n",
    "        \"train\": DatasetSplit(x=train.drop(label, axis=1, inplace=False), y=train[label]),\n",
    "        \"valid\": DatasetSplit(x=test.drop(label, axis=1, inplace=False), y=test[label]),\n",
    "    },\n",
    ")\n",
    "\n",
    "estimator = Estimator()\n",
    "estimator.model = DummyRegressor(strategy=\"mean\").fit(dataset.splits[\"train\"].x, dataset.splits[\"train\"].y)\n",
    "\n",
    "metrics = estimator.evaluate(dataset)\n",
    "print(metrics)"
   ]
  },
  {
   "cell_type": "code",
   "execution_count": null,
   "metadata": {
    "collapsed": false,
    "pycharm": {
     "is_executing": true
    }
   },
   "outputs": [],
   "source": [
    "from sklearn.linear_model import LinearRegression\n",
    "\n",
    "estimator = Estimator()\n",
    "estimator.model = LinearRegression(copy_X=False).fit(dataset.splits[\"train\"].x, dataset.splits[\"train\"].y)\n",
    "\n",
    "metrics = estimator.evaluate(dataset)\n",
    "print(metrics)"
   ]
  },
  {
   "cell_type": "code",
   "execution_count": null,
   "metadata": {
    "collapsed": false
   },
   "outputs": [],
   "source": [
    "# https://dainesanalytics.blog/2019/04/15/regression-model-for-song-year-prediction-using-python/\n",
    "# https://merelydoit.blog/2020/03/09/regression-deep-learning-model-for-song-year-prediction-using-tensorflow-take-2/\n",
    "# page 6: https://bdataanalytics.biomedcentral.com/track/pdf/10.1186/s41044-016-0010-4.pdf"
   ]
  }
 ],
 "metadata": {
  "kernelspec": {
   "display_name": "Python 3",
   "language": "python",
   "name": "python3"
  },
  "language_info": {
   "codemirror_mode": {
    "name": "ipython",
    "version": 2
   },
   "file_extension": ".py",
   "mimetype": "text/x-python",
   "name": "python",
   "nbconvert_exporter": "python",
   "pygments_lexer": "ipython2",
   "version": "2.7.6"
  }
 },
 "nbformat": 4,
 "nbformat_minor": 0
}
