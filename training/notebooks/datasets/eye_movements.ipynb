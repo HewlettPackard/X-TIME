{
 "cells": [
  {
   "cell_type": "code",
   "execution_count": 1,
   "metadata": {
    "collapsed": false,
    "jupyter": {
     "outputs_hidden": false
    }
   },
   "outputs": [],
   "source": [
    "from openml.datasets import get_dataset as get_openml_dataset\n",
    "from openml.datasets.dataset import OpenMLDataset\n",
    "from sklearn.model_selection import train_test_split"
   ]
  },
  {
   "cell_type": "code",
   "execution_count": null,
   "metadata": {},
   "outputs": [],
   "source": [
    "# This does not work on headless Linux systems.\n",
    "from pandasgui import show"
   ]
  },
  {
   "cell_type": "code",
   "execution_count": 3,
   "metadata": {
    "collapsed": false,
    "jupyter": {
     "outputs_hidden": false
    },
    "pycharm": {
     "is_executing": true
    }
   },
   "outputs": [
    {
     "name": "stdout",
     "output_type": "stream",
     "text": [
      "<class 'pandas.core.frame.DataFrame'> <class 'pandas.core.series.Series'>\n"
     ]
    }
   ],
   "source": [
    "data: OpenMLDataset = get_openml_dataset(\n",
    "    dataset_id=\"eye_movements\", version=1, error_if_multiple=True, download_data=True\n",
    ")\n",
    "\n",
    "# Load from local cache\n",
    "x, y, categorical_indicator, attributed_names = data.get_data(\n",
    "    target=data.default_target_attribute, dataset_format=\"dataframe\"\n",
    ")\n",
    "\n",
    "print(type(x), type(y))"
   ]
  },
  {
   "cell_type": "code",
   "execution_count": null,
   "metadata": {
    "collapsed": false,
    "jupyter": {
     "outputs_hidden": false
    },
    "pycharm": {
     "is_executing": true
    }
   },
   "outputs": [],
   "source": [
    "# Analyze it with Pandas GUI library\n",
    "show(x)\n",
    "# show(y)"
   ]
  },
  {
   "cell_type": "code",
   "execution_count": 4,
   "metadata": {
    "collapsed": false,
    "jupyter": {
     "outputs_hidden": false
    }
   },
   "outputs": [],
   "source": [
    "# Encode labels. Move from `category` type to int type with labels [0, 1, 2]\n",
    "y = y.astype(int)"
   ]
  },
  {
   "cell_type": "code",
   "execution_count": 5,
   "metadata": {
    "collapsed": false,
    "jupyter": {
     "outputs_hidden": false
    }
   },
   "outputs": [],
   "source": [
    "# Drop unique columns\n",
    "x.drop(\"lineNo\", axis=1, inplace=True)\n",
    "\n",
    "# Convert `category` features to int type.\n",
    "x[\"P1stFixation\"] = x[\"P1stFixation\"].astype(int)  # Binary 0/1\n",
    "x[\"P2stFixation\"] = x[\"P2stFixation\"].astype(int)  # Binary 0/1\n",
    "x[\"nextWordRegress\"] = x[\"nextWordRegress\"].astype(int)  # Binary 0/1"
   ]
  },
  {
   "cell_type": "code",
   "execution_count": 6,
   "metadata": {
    "collapsed": false,
    "jupyter": {
     "outputs_hidden": false
    }
   },
   "outputs": [],
   "source": [
    "test_size = 0.2\n",
    "validation_size = 0.1\n",
    "\n",
    "train_x, test_x, train_y, test_y = train_test_split(x, y, test_size=test_size, random_state=1, shuffle=True)\n",
    "train_x, valid_x, train_y, valid_y = train_test_split(\n",
    "    train_x, train_y, test_size=validation_size / (1.0 - test_size), random_state=1, shuffle=True\n",
    ")"
   ]
  },
  {
   "cell_type": "code",
   "execution_count": null,
   "metadata": {
    "collapsed": false,
    "jupyter": {
     "outputs_hidden": false
    },
    "pycharm": {
     "is_executing": true
    }
   },
   "outputs": [],
   "source": [
    "from sklearn.dummy import DummyClassifier\n",
    "\n",
    "from xtime.datasets import Dataset, DatasetMetadata, DatasetSplit\n",
    "from xtime.estimators import Estimator\n",
    "from xtime.ml import ClassificationTask, Feature, FeatureType, TaskType\n",
    "\n",
    "_binary_features = [\"P1stFixation\", \"P2stFixation\", \"nextWordRegress\"]\n",
    "_drop_features = [\"lineNo\"]\n",
    "features = []\n",
    "for feature in x.columns:\n",
    "    if feature in _drop_features:\n",
    "        continue\n",
    "    if feature in _binary_features:\n",
    "        features.append(Feature(feature, FeatureType.BINARY))\n",
    "    else:\n",
    "        features.append(Feature(feature, FeatureType.CONTINUOUS, cardinality=int(x[feature].nunique())))\n",
    "\n",
    "dataset = Dataset(\n",
    "    metadata=DatasetMetadata(\n",
    "        name=\"eye_movements\",\n",
    "        version=\"NA\",\n",
    "        features=features,\n",
    "        task=ClassificationTask(type_=TaskType.MULTI_CLASS_CLASSIFICATION, num_classes=3),\n",
    "    ),\n",
    "    splits={\n",
    "        \"train\": DatasetSplit(x=train_x, y=train_y),\n",
    "        \"valid\": DatasetSplit(x=valid_x, y=valid_y),\n",
    "        \"test\": DatasetSplit(x=test_x, y=test_y),\n",
    "    },\n",
    ")\n",
    "estimator = Estimator()\n",
    "estimator.model = DummyClassifier(strategy=\"prior\").fit(dataset.splits[\"train\"].x, dataset.splits[\"train\"].y)\n",
    "\n",
    "metrics = estimator.evaluate(dataset)\n",
    "print(metrics)"
   ]
  }
 ],
 "metadata": {
  "kernelspec": {
   "display_name": "Python 3 (ipykernel)",
   "language": "python",
   "name": "python3"
  },
  "language_info": {
   "codemirror_mode": {
    "name": "ipython",
    "version": 3
   },
   "file_extension": ".py",
   "mimetype": "text/x-python",
   "name": "python",
   "nbconvert_exporter": "python",
   "pygments_lexer": "ipython3",
   "version": "3.9.18"
  }
 },
 "nbformat": 4,
 "nbformat_minor": 4
}
