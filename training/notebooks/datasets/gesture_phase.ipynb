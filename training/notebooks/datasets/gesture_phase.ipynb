{
 "cells": [
  {
   "cell_type": "code",
   "execution_count": null,
   "metadata": {
    "collapsed": false,
    "jupyter": {
     "outputs_hidden": false
    }
   },
   "outputs": [],
   "source": [
    "import pandas as pd\n",
    "from openml import OpenMLDataset\n",
    "from openml.datasets import get_dataset as get_openml_dataset\n",
    "from sklearn.model_selection import train_test_split\n",
    "from sklearn.preprocessing import LabelEncoder"
   ]
  },
  {
   "cell_type": "code",
   "execution_count": null,
   "metadata": {},
   "outputs": [],
   "source": [
    "# This does not work on headless Linux systems.\n",
    "from pandasgui import show"
   ]
  },
  {
   "cell_type": "code",
   "execution_count": null,
   "metadata": {
    "collapsed": false,
    "jupyter": {
     "outputs_hidden": false
    }
   },
   "outputs": [],
   "source": [
    "# Fetch dataset and its description from OpenML. Will be cached in ${HOME}/.openml\n",
    "data: OpenMLDataset = get_openml_dataset(\n",
    "    dataset_id=\"GesturePhaseSegmentationProcessed\", version=1, error_if_multiple=True, download_data=True\n",
    ")\n",
    "\n",
    "x, y, categorical_indicator, attributed_names = data.get_data(\n",
    "    target=data.default_target_attribute, dataset_format=\"dataframe\"\n",
    ")"
   ]
  },
  {
   "cell_type": "code",
   "execution_count": null,
   "metadata": {
    "collapsed": false,
    "jupyter": {
     "outputs_hidden": false
    },
    "pycharm": {
     "is_executing": true
    }
   },
   "outputs": [],
   "source": [
    "# Analyze it with Pandas GUI library\n",
    "show(x)\n",
    "# show(y)"
   ]
  },
  {
   "cell_type": "code",
   "execution_count": null,
   "metadata": {
    "collapsed": false,
    "jupyter": {
     "outputs_hidden": false
    }
   },
   "outputs": [],
   "source": [
    "y = pd.Series(LabelEncoder().fit_transform(y), index=y.index, name=y.name)"
   ]
  },
  {
   "cell_type": "code",
   "execution_count": null,
   "metadata": {
    "collapsed": false,
    "jupyter": {
     "outputs_hidden": false
    }
   },
   "outputs": [],
   "source": [
    "test_size = 0.2\n",
    "validation_size = 0.1\n",
    "\n",
    "# Split into train/valid/test according to paper\n",
    "train_x, test_x, train_y, test_y = train_test_split(x, y, test_size=test_size, random_state=1, shuffle=True)\n",
    "train_x, valid_x, train_y, valid_y = train_test_split(\n",
    "    train_x, train_y, test_size=validation_size / (1.0 - test_size), random_state=1, shuffle=True\n",
    ")"
   ]
  },
  {
   "cell_type": "code",
   "execution_count": null,
   "metadata": {
    "collapsed": false,
    "jupyter": {
     "outputs_hidden": false
    },
    "pycharm": {
     "is_executing": true
    }
   },
   "outputs": [],
   "source": [
    "from sklearn.dummy import DummyClassifier\n",
    "\n",
    "from xtime.datasets import Dataset, DatasetMetadata, DatasetSplit\n",
    "from xtime.estimators import Estimator\n",
    "from xtime.ml import ClassificationTask, Feature, FeatureType, TaskType\n",
    "\n",
    "# All features in this dataset are continuous (float64)\n",
    "features = [Feature(col, FeatureType.CONTINUOUS, cardinality=int(x[col].nunique())) for col in x.columns]\n",
    "\n",
    "dataset = Dataset(\n",
    "    metadata=DatasetMetadata(\n",
    "        name=\"gesture_phase\",\n",
    "        version=\"NA\",\n",
    "        features=features,\n",
    "        task=ClassificationTask(type_=TaskType.MULTI_CLASS_CLASSIFICATION, num_classes=5),\n",
    "    ),\n",
    "    splits={\n",
    "        \"train\": DatasetSplit(x=train_x, y=train_y),\n",
    "        \"valid\": DatasetSplit(x=valid_x, y=valid_y),\n",
    "        \"test\": DatasetSplit(x=test_x, y=test_y),\n",
    "    },\n",
    ")\n",
    "\n",
    "estimator = Estimator()\n",
    "estimator.model = DummyClassifier(strategy=\"prior\").fit(dataset.splits[\"train\"].x, dataset.splits[\"train\"].y)\n",
    "\n",
    "metrics = estimator.evaluate(dataset)\n",
    "print(metrics)"
   ]
  }
 ],
 "metadata": {
  "kernelspec": {
   "display_name": "Python 3 (ipykernel)",
   "language": "python",
   "name": "python3"
  },
  "language_info": {
   "codemirror_mode": {
    "name": "ipython",
    "version": 3
   },
   "file_extension": ".py",
   "mimetype": "text/x-python",
   "name": "python",
   "nbconvert_exporter": "python",
   "pygments_lexer": "ipython3",
   "version": "3.9.18"
  }
 },
 "nbformat": 4,
 "nbformat_minor": 4
}
