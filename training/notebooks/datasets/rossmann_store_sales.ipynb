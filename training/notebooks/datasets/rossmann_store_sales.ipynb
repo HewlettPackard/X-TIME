{
 "cells": [
  {
   "cell_type": "markdown",
   "metadata": {
    "collapsed": false,
    "jupyter": {
     "outputs_hidden": false
    }
   },
   "source": [
    "## Rossmann Store Sales\n",
    "\n",
    "> Forecast sales using store, promotion, and competitor data\n",
    "\n",
    "Is a Kaggle [competition](https://www.kaggle.com/c/rossmann-store-sales).\n",
    "\n",
    "For the Rossmann dataset, we used the same preprocessing and data split as [Prokhorenkova et al., 2018a]() – data from 2014\n",
    "was used for training and validation, whereas 2015 was used for testing. We split 100k samples for validation from\n",
    "the training dataset, and after the optimization of the hyperparameters, we retrained on the entire training dataset.\n",
    "\n",
    "## Prokhorenkova et al., 2018a\n",
    "Liudmila Prokhorenkova, Gleb Gusev, Aleksandr Vorobev, Anna Veronika Dorogush, and Andrey Gulin. Catboost:\n",
    "unbiased boosting with categorical features. 32nd Conference on Neural Information Processing Systems (NeurIPS),\n",
    "2018a.\n",
    "\n",
    "Repository with benchmarks - [rossman-store-sales](https://github.com/catboost/benchmarks/tree/master/kaggle/rossmann-store-sales)."
   ]
  },
  {
   "cell_type": "code",
   "execution_count": null,
   "metadata": {
    "collapsed": false,
    "jupyter": {
     "outputs_hidden": false
    }
   },
   "outputs": [],
   "source": [
    "import calendar\n",
    "from pathlib import Path\n",
    "\n",
    "import numpy as np\n",
    "import pandas as pd\n",
    "from sklearn.preprocessing import LabelEncoder"
   ]
  },
  {
   "cell_type": "code",
   "execution_count": null,
   "metadata": {},
   "outputs": [],
   "source": [
    "# This does not work on headless Linux systems.\n",
    "from pandasgui import show"
   ]
  },
  {
   "cell_type": "code",
   "execution_count": null,
   "metadata": {
    "collapsed": false,
    "jupyter": {
     "outputs_hidden": false
    }
   },
   "outputs": [],
   "source": [
    "def print_nan_statistics(_name: str, _df: pd.DataFrame):\n",
    "    for _column in _df.columns:\n",
    "        _nan_mask = _df[_column].isnull()\n",
    "        if _nan_mask.any():\n",
    "            print(\n",
    "                f\"name={_name}, column={_column}, num_unique_values={len(_df[_column].unique())}, num_nans={_nan_mask.sum()} dtype={_df[_column].dtype}\"\n",
    "            )"
   ]
  },
  {
   "cell_type": "code",
   "execution_count": null,
   "metadata": {
    "collapsed": false,
    "jupyter": {
     "outputs_hidden": false
    },
    "pycharm": {
     "is_executing": true
    }
   },
   "outputs": [],
   "source": [
    "data_dir = Path(\"~/.cache/kaggle/datasets/rossmann_store_sales\").expanduser()\n",
    "store_file = \"store.csv.gz\"\n",
    "train_file = \"train.csv.gz\"\n",
    "\n",
    "train: pd.DataFrame = pd.read_csv((data_dir / train_file).as_posix())\n",
    "store: pd.DataFrame = pd.read_csv((data_dir / store_file).as_posix())\n",
    "\n",
    "print(f\"train: shape={train.shape}, columns={list(train.columns)}\")\n",
    "print(f\"store: shape={store.shape}, columns={list(store.columns)}\")\n",
    "\n",
    "print(train.dtypes)"
   ]
  },
  {
   "cell_type": "code",
   "execution_count": null,
   "metadata": {
    "collapsed": false,
    "jupyter": {
     "outputs_hidden": false
    }
   },
   "outputs": [],
   "source": [
    "# https://docs.python.org/3/library/calendar.html#calendar.month_abbr\n",
    "month_abbrs = calendar.month_abbr[1:]\n",
    "# It's `Sep` by default, but dataset uses Sept.\n",
    "month_abbrs[8] = \"Sept\""
   ]
  },
  {
   "cell_type": "code",
   "execution_count": null,
   "metadata": {
    "collapsed": false,
    "jupyter": {
     "outputs_hidden": false
    }
   },
   "outputs": [],
   "source": [
    "# StateHoliday - indicates a state holiday. Normally all stores, with few exceptions, are closed on state holidays.\n",
    "# Note that all schools are closed on public holidays and weekends. a = public holiday, b = Easter holiday, c = Christmas, 0 = None\n",
    "train[\"StateHoliday\"].replace(0, \"n\", inplace=True)"
   ]
  },
  {
   "cell_type": "code",
   "execution_count": null,
   "metadata": {
    "collapsed": false,
    "jupyter": {
     "outputs_hidden": false
    },
    "pycharm": {
     "is_executing": true
    }
   },
   "outputs": [],
   "source": [
    "# Convert Date column (e.g., 2015-07-31) into three integer columns - year, month and day\n",
    "train[[\"Year\", \"Month\", \"Day\"]] = train[\"Date\"].str.split(\"-\", n=3, expand=True).astype(int)\n",
    "train.drop([\"Date\"], axis=1, inplace=True)"
   ]
  },
  {
   "cell_type": "code",
   "execution_count": null,
   "metadata": {
    "collapsed": false,
    "jupyter": {
     "outputs_hidden": false
    },
    "pycharm": {
     "is_executing": true
    }
   },
   "outputs": [],
   "source": [
    "print_nan_statistics(\"train\", train)\n",
    "print_nan_statistics(\"store\", store)\n",
    "\n",
    "# Promo2 - Promo2 is a continuing and consecutive promotion for some stores: 0 = store is not participating, 1 = store is participating\n",
    "# Promo2Since[Year/Week] - describes the year and calendar week when the store started participating in Promo2\n",
    "\n",
    "# Promo2SinceWeek and Promo2SinceYear are NaNs when Promo2 is 0 (0 = store is not participating)\n",
    "# Do not care that much about PromoInterval - it will be removed later.\n",
    "print(store[\"Promo2\"].value_counts().to_dict())"
   ]
  },
  {
   "cell_type": "code",
   "execution_count": null,
   "metadata": {
    "collapsed": false,
    "jupyter": {
     "outputs_hidden": false
    }
   },
   "outputs": [],
   "source": [
    "# Join with store table\n",
    "train = train.join(store, on=\"Store\", rsuffix=\"_right\")\n",
    "train.drop([\"Store_right\"], axis=1, inplace=True)"
   ]
  },
  {
   "cell_type": "code",
   "execution_count": null,
   "metadata": {
    "collapsed": false,
    "jupyter": {
     "outputs_hidden": false
    }
   },
   "outputs": [],
   "source": [
    "# Convert `PromoInterval` (e.g., Jan,Apr,Jul,Oct) into binary variables\n",
    "promo2_start_months = [(s.split(\",\") if not pd.isnull(s) else []) for s in train[\"PromoInterval\"]]\n",
    "for month_abbr in month_abbrs:\n",
    "    train[\"Promo2Start_\" + month_abbr] = np.array([(1 if month_abbr in s else 0) for s in promo2_start_months])\n",
    "train.drop([\"PromoInterval\"], axis=1, inplace=True)"
   ]
  },
  {
   "cell_type": "code",
   "execution_count": null,
   "metadata": {
    "collapsed": false,
    "jupyter": {
     "outputs_hidden": false
    },
    "pycharm": {
     "is_executing": true
    }
   },
   "outputs": [],
   "source": [
    "print_nan_statistics(\"train\", train)"
   ]
  },
  {
   "cell_type": "code",
   "execution_count": null,
   "metadata": {
    "collapsed": false,
    "jupyter": {
     "outputs_hidden": false
    },
    "pycharm": {
     "is_executing": true
    }
   },
   "outputs": [],
   "source": [
    "show(train)"
   ]
  },
  {
   "cell_type": "code",
   "execution_count": null,
   "metadata": {
    "collapsed": false,
    "jupyter": {
     "outputs_hidden": false
    }
   },
   "outputs": [],
   "source": [
    "# StoreType - differentiates between 4 different store models: a, b, c, d\n",
    "train[\"StoreType\"].fillna(\"na\", inplace=True)\n",
    "# Assortment - describes an assortment level: a = basic, b = extra, c = extended\n",
    "train[\"Assortment\"].fillna(\"na\", inplace=True)\n",
    "\n",
    "# CompetitionDistance - distance in meters to the nearest competitor store\n",
    "train[\"CompetitionDistance\"].fillna(-1, inplace=True)\n",
    "train[\"CompetitionOpenSinceMonth\"].fillna(0, inplace=True)\n",
    "train[\"CompetitionOpenSinceYear\"].fillna(0, inplace=True)\n",
    "\n",
    "# Promo2 - Promo2 is a continuing and consecutive promotion for some stores: 0 = store is not participating, 1 = store is participating\n",
    "train[\"Promo2\"].fillna(0, inplace=True)\n",
    "train[\"Promo2SinceWeek\"].fillna(-1, inplace=True)\n",
    "train[\"Promo2SinceYear\"].fillna(-1, inplace=True)\n",
    "\n",
    "train[\"Promo2\"] = train[\"Promo2\"].astype(int)"
   ]
  },
  {
   "cell_type": "code",
   "execution_count": null,
   "metadata": {
    "collapsed": false,
    "jupyter": {
     "outputs_hidden": false
    }
   },
   "outputs": [],
   "source": [
    "print_nan_statistics(\"train\", train)"
   ]
  },
  {
   "cell_type": "code",
   "execution_count": null,
   "metadata": {
    "collapsed": false,
    "jupyter": {
     "outputs_hidden": false
    },
    "pycharm": {
     "is_executing": true
    }
   },
   "outputs": [],
   "source": [
    "train.head(n=5)"
   ]
  },
  {
   "cell_type": "code",
   "execution_count": null,
   "metadata": {
    "collapsed": false,
    "jupyter": {
     "outputs_hidden": false
    },
    "pycharm": {
     "is_executing": true
    }
   },
   "outputs": [],
   "source": [
    "# Split into train/test splits\n",
    "train_indices = train[train[\"Year\"] == 2014].index\n",
    "test_indices = train[train[\"Year\"] == 2015].index\n",
    "\n",
    "train_split = train.iloc[train_indices].reset_index(drop=True)\n",
    "test_split = train.iloc[test_indices].reset_index(drop=True)\n",
    "\n",
    "print(f\"train_split={train_split.shape}, test_split={test_split.shape}\")"
   ]
  },
  {
   "cell_type": "code",
   "execution_count": null,
   "metadata": {
    "collapsed": false,
    "jupyter": {
     "outputs_hidden": false
    },
    "pycharm": {
     "is_executing": true
    }
   },
   "outputs": [],
   "source": [
    "show(train_split)"
   ]
  },
  {
   "cell_type": "code",
   "execution_count": null,
   "metadata": {
    "collapsed": false,
    "jupyter": {
     "outputs_hidden": false
    }
   },
   "outputs": [],
   "source": [
    "m = test_split[\"Sales\"].mean()"
   ]
  },
  {
   "cell_type": "code",
   "execution_count": null,
   "metadata": {
    "collapsed": false,
    "jupyter": {
     "outputs_hidden": false
    },
    "pycharm": {
     "is_executing": true
    }
   },
   "outputs": [],
   "source": [
    "515.450 / m"
   ]
  },
  {
   "cell_type": "code",
   "execution_count": null,
   "metadata": {
    "collapsed": false,
    "jupyter": {
     "outputs_hidden": false
    },
    "pycharm": {
     "is_executing": true
    }
   },
   "outputs": [],
   "source": [
    "643.804 / m - 515.450 / m"
   ]
  },
  {
   "cell_type": "code",
   "execution_count": null,
   "metadata": {
    "collapsed": false,
    "jupyter": {
     "outputs_hidden": false
    }
   },
   "outputs": [],
   "source": [
    "# These are `object` columns (strings)\n",
    "string_columns = [\"StateHoliday\", \"StoreType\", \"Assortment\"]\n",
    "\n",
    "for column in string_columns:\n",
    "    encoder = LabelEncoder()\n",
    "    train_split[column] = encoder.fit_transform(train_split[column])\n",
    "    test_split[column] = encoder.transform(test_split[column])"
   ]
  },
  {
   "cell_type": "code",
   "execution_count": null,
   "metadata": {
    "collapsed": false,
    "jupyter": {
     "outputs_hidden": false
    }
   },
   "outputs": [],
   "source": [
    "# Remove 'Year' column since it's irrelevant here\n",
    "train_split.drop(\"Year\", axis=1, inplace=True)\n",
    "test_split.drop(\"Year\", axis=1, inplace=True)"
   ]
  },
  {
   "cell_type": "code",
   "execution_count": null,
   "metadata": {
    "collapsed": false,
    "jupyter": {
     "outputs_hidden": false
    },
    "pycharm": {
     "is_executing": true
    }
   },
   "outputs": [],
   "source": [
    "show(train_split)"
   ]
  },
  {
   "cell_type": "code",
   "execution_count": null,
   "metadata": {
    "collapsed": false,
    "jupyter": {
     "outputs_hidden": false
    }
   },
   "outputs": [],
   "source": [
    "label = \"Sales\""
   ]
  },
  {
   "cell_type": "code",
   "execution_count": null,
   "metadata": {
    "collapsed": false,
    "jupyter": {
     "outputs_hidden": false
    },
    "pycharm": {
     "is_executing": true
    }
   },
   "outputs": [],
   "source": [
    "from sklearn.dummy import DummyRegressor\n",
    "\n",
    "from xtime.datasets import Dataset, DatasetMetadata, DatasetSplit\n",
    "from xtime.estimators import Estimator\n",
    "from xtime.ml import Feature, FeatureType, RegressionTask\n",
    "\n",
    "features = [\n",
    "    Feature(\"Store\", FeatureType.NOMINAL),\n",
    "    Feature(\"DayOfWeek\", FeatureType.NOMINAL),\n",
    "    Feature(\"Customers\", FeatureType.CONTINUOUS),\n",
    "    Feature(\"Open\", FeatureType.BINARY),\n",
    "    Feature(\"Promo\", FeatureType.BINARY),\n",
    "    Feature(\"StateHoliday\", FeatureType.NOMINAL),\n",
    "    Feature(\"SchoolHoliday\", FeatureType.BINARY),\n",
    "    Feature(\"Month\", FeatureType.CONTINUOUS),\n",
    "    Feature(\"Day\", FeatureType.CONTINUOUS),\n",
    "    Feature(\"StoreType\", FeatureType.NOMINAL),\n",
    "    Feature(\"Assortment\", FeatureType.NOMINAL),\n",
    "    Feature(\"CompetitionDistance\", FeatureType.CONTINUOUS),\n",
    "    Feature(\"CompetitionOpenSinceMonth\", FeatureType.CONTINUOUS),\n",
    "    Feature(\"CompetitionOpenSinceYear\", FeatureType.CONTINUOUS),\n",
    "    Feature(\"Promo2\", FeatureType.BINARY),\n",
    "    Feature(\"Promo2SinceWeek\", FeatureType.CONTINUOUS),\n",
    "    Feature(\"Promo2SinceYear\", FeatureType.CONTINUOUS),\n",
    "]\n",
    "for month_abbr in month_abbrs:\n",
    "    features.append(Feature(f\"Promo2Start_{month_abbr}\", FeatureType.BINARY))\n",
    "\n",
    "dataset = Dataset(\n",
    "    metadata=DatasetMetadata(\n",
    "        name=\"rossman_store_sales\",\n",
    "        version=\"NA\",\n",
    "        features=features,\n",
    "        task=RegressionTask(),\n",
    "    ),\n",
    "    splits={\n",
    "        \"train\": DatasetSplit(x=train_split.drop(label, axis=1, inplace=False), y=train_split[label]),\n",
    "        \"valid\": DatasetSplit(x=test_split.drop(label, axis=1, inplace=False), y=test_split[label]),\n",
    "    },\n",
    ")\n",
    "\n",
    "estimator = Estimator()\n",
    "estimator.model = DummyRegressor(strategy=\"mean\").fit(dataset.splits[\"train\"].x, dataset.splits[\"train\"].y)\n",
    "\n",
    "metrics = estimator.evaluate(dataset)\n",
    "print(metrics)"
   ]
  },
  {
   "cell_type": "code",
   "execution_count": null,
   "metadata": {
    "collapsed": false,
    "jupyter": {
     "outputs_hidden": false
    },
    "pycharm": {
     "is_executing": true
    }
   },
   "outputs": [],
   "source": [
    "from sklearn.linear_model import LinearRegression\n",
    "\n",
    "estimator = Estimator()\n",
    "estimator.model = LinearRegression(copy_X=False).fit(dataset.splits[\"train\"].x, dataset.splits[\"train\"].y)\n",
    "\n",
    "metrics = estimator.evaluate(dataset)\n",
    "print(metrics)"
   ]
  }
 ],
 "metadata": {
  "kernelspec": {
   "display_name": "Python 3 (ipykernel)",
   "language": "python",
   "name": "python3"
  },
  "language_info": {
   "codemirror_mode": {
    "name": "ipython",
    "version": 3
   },
   "file_extension": ".py",
   "mimetype": "text/x-python",
   "name": "python",
   "nbconvert_exporter": "python",
   "pygments_lexer": "ipython3",
   "version": "3.12.4"
  }
 },
 "nbformat": 4,
 "nbformat_minor": 4
}
