{
 "cells": [
  {
   "cell_type": "code",
   "execution_count": 1,
   "outputs": [],
   "source": [
    "import pandas as pd\n",
    "from pandasgui import show\n",
    "from sklearn.preprocessing import LabelEncoder\n",
    "from sklearn.model_selection import train_test_split\n",
    "from pathlib import Path"
   ],
   "metadata": {
    "collapsed": false
   }
  },
  {
   "cell_type": "code",
   "execution_count": 2,
   "outputs": [],
   "source": [
    "data_dir = Path('~/.cache/kaggle/datasets/shrutime').expanduser()\n",
    "file_name = 'Churn_Modelling.csv'\n",
    "\n",
    "data_path = data_dir / file_name\n",
    "data: pd.DataFrame = pd.read_csv(data_path.as_posix())"
   ],
   "metadata": {
    "collapsed": false
   }
  },
  {
   "cell_type": "code",
   "execution_count": null,
   "outputs": [],
   "source": [
    "data.head()"
   ],
   "metadata": {
    "collapsed": false,
    "pycharm": {
     "is_executing": true
    }
   }
  },
  {
   "cell_type": "code",
   "execution_count": null,
   "outputs": [],
   "source": [
    "print(data.index, type(data.index), len(data.index))"
   ],
   "metadata": {
    "collapsed": false,
    "pycharm": {
     "is_executing": true
    }
   }
  },
  {
   "cell_type": "code",
   "execution_count": null,
   "outputs": [],
   "source": [
    "train_index, valid_index = train_test_split(data.index, train_size=0.8, random_state=0, stratify=data['Exited'])\n",
    "\n",
    "print(train_index, type(train_index), len(train_index))\n",
    "print(valid_index, type(valid_index), len(valid_index))"
   ],
   "metadata": {
    "collapsed": false,
    "pycharm": {
     "is_executing": true
    }
   }
  },
  {
   "cell_type": "code",
   "execution_count": null,
   "outputs": [],
   "source": [
    "data.iloc[train_index][['Exited']]"
   ],
   "metadata": {
    "collapsed": false,
    "pycharm": {
     "is_executing": true
    }
   }
  },
  {
   "cell_type": "code",
   "execution_count": null,
   "outputs": [],
   "source": [
    "# Analyze it with Pandas GUI library\n",
    "show(data)"
   ],
   "metadata": {
    "collapsed": false,
    "pycharm": {
     "is_executing": true
    }
   }
  },
  {
   "cell_type": "code",
   "execution_count": 8,
   "outputs": [],
   "source": [
    "# Drop unique columns\n",
    "data.drop('RowNumber', axis=1, inplace=True)\n",
    "data.drop('CustomerId', axis=1, inplace=True)\n",
    "\n",
    "# Textual fields (second names)\n",
    "data.drop('Surname', axis=1, inplace=True)\n",
    "\n",
    "# Convert several numerical columns to floating point format\n",
    "data['CreditScore'] = data['CreditScore'].astype(float)\n",
    "data['Age'] = data['Age'].astype(float)\n",
    "data['Tenure'] = data['Tenure'].astype(float)"
   ],
   "metadata": {
    "collapsed": false
   }
  },
  {
   "cell_type": "code",
   "execution_count": null,
   "outputs": [],
   "source": [
    "for feature in ['Geography', 'Gender']:\n",
    "    _label_encoder = LabelEncoder().fit(data[feature])\n",
    "    data[feature] = _label_encoder.transform(data[feature])\n",
    "    print(feature, _label_encoder.classes_)"
   ],
   "metadata": {
    "collapsed": false,
    "pycharm": {
     "is_executing": true
    }
   }
  },
  {
   "cell_type": "code",
   "execution_count": 10,
   "outputs": [],
   "source": [
    "train, valid = train_test_split(data, train_size=0.8, random_state=0, stratify=data['Exited'])"
   ],
   "metadata": {
    "collapsed": false
   }
  },
  {
   "cell_type": "code",
   "execution_count": null,
   "outputs": [],
   "source": [
    "from xtime.estimators import Estimator\n",
    "from xtime.ml import TaskType, ClassificationTask\n",
    "from xtime.datasets import (Dataset, DatasetSplit, DatasetMetadata)\n",
    "from sklearn.dummy import DummyClassifier\n",
    "\n",
    "dataset = Dataset(\n",
    "    metadata=DatasetMetadata(\n",
    "        name='Churn_Modelling',\n",
    "        version='NA',\n",
    "        task=ClassificationTask(type_=TaskType.BINARY_CLASSIFICATION, num_classes=2)\n",
    "    ),\n",
    "    splits={\n",
    "        'train': DatasetSplit(x=train.drop('Exited', axis=1, inplace=False), y=train['Exited']),\n",
    "        'valid': DatasetSplit(x=train.drop('Exited', axis=1, inplace=False), y=train['Exited'])\n",
    "    }\n",
    ")\n",
    "\n",
    "estimator = Estimator()\n",
    "estimator.model = DummyClassifier(strategy=\"prior\").fit(dataset.splits['train'].x, dataset.splits['train'].y)\n",
    "\n",
    "metrics = estimator.evaluate(dataset)\n",
    "print(metrics)"
   ],
   "metadata": {
    "collapsed": false,
    "pycharm": {
     "is_executing": true
    }
   }
  }
 ],
 "metadata": {
  "kernelspec": {
   "display_name": "Python 3",
   "language": "python",
   "name": "python3"
  },
  "language_info": {
   "codemirror_mode": {
    "name": "ipython",
    "version": 2
   },
   "file_extension": ".py",
   "mimetype": "text/x-python",
   "name": "python",
   "nbconvert_exporter": "python",
   "pygments_lexer": "ipython2",
   "version": "2.7.6"
  }
 },
 "nbformat": 4,
 "nbformat_minor": 0
}
