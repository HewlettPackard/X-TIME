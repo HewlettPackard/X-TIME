{
 "cells": [
  {
   "cell_type": "markdown",
   "id": "f4c00064-7b7b-4fa7-a2c3-d436b8705cac",
   "metadata": {},
   "source": [
    "# Parse MLFlow Results"
   ]
  },
  {
   "cell_type": "markdown",
   "id": "b0eca306-e369-4b0a-87b4-6d82e888cab3",
   "metadata": {},
   "source": [
    "## Setup"
   ]
  },
  {
   "cell_type": "code",
   "execution_count": 2,
   "id": "db3ec553-3ef3-41a0-81a8-581f09e75090",
   "metadata": {},
   "outputs": [],
   "source": [
    "import sys\n",
    "import os\n",
    "import json\n",
    "import warnings\n",
    "\n",
    "from tqdm.notebook import (tqdm, trange)\n",
    "\n",
    "module_path = os.path.abspath(os.path.join(\"..\"))\n",
    "code_dirs = [\"src\", \"src/profile_utils\"]\n",
    "\n",
    "for d in code_dirs:\n",
    "    code_path = os.path.join(module_path, d)\n",
    "    if code_path not in sys.path:\n",
    "        sys.path.append(code_path)"
   ]
  },
  {
   "cell_type": "code",
   "execution_count": 3,
   "id": "cb38b52b-e5e4-41d4-a6f1-21b3018a0de2",
   "metadata": {},
   "outputs": [],
   "source": [
    "import json\n",
    "import os\n",
    "import sys\n",
    "\n",
    "import mlflow\n",
    "import ray\n",
    "import yaml\n",
    "\n",
    "from mlflow_loader import (_get_best_run_info,\n",
    "                           load_model,\n",
    "                           load_dataset,\n",
    "                           load_dataset_from_str,\n",
    "                           load_model_from_str)\n",
    "\n",
    "import typing as t\n",
    "import pandas as pd\n",
    "import numpy as np\n",
    "\n",
    "import lightgbm\n",
    "import xgboost\n",
    "import catboost\n",
    "import sklearn.ensemble\n",
    "import pickle\n",
    "\n",
    "from multiprocessing import Process\n",
    "from pathlib import Path\n",
    "\n",
    "from mlflow.utils.file_utils import local_file_uri_to_path\n",
    "\n",
    "from ray import tune\n",
    "from ray.tune.suggest import ConcurrencyLimiter\n",
    "from ray.tune.suggest.hyperopt import HyperOptSearch\n",
    "from ray.tune.trial import Trial"
   ]
  },
  {
   "cell_type": "code",
   "execution_count": 4,
   "id": "ab2b9859-4188-4974-9225-ba44e789a180",
   "metadata": {},
   "outputs": [],
   "source": [
    "%load_ext autoreload"
   ]
  },
  {
   "cell_type": "code",
   "execution_count": 5,
   "id": "72938e05-cf0b-4857-8898-7c74dec6a571",
   "metadata": {},
   "outputs": [],
   "source": [
    "%autoreload 2"
   ]
  },
  {
   "cell_type": "markdown",
   "id": "fdfbfa72-5eb8-4c9e-9746-ee173f68da36",
   "metadata": {},
   "source": [
    "## Loading MLFlow Model Information"
   ]
  },
  {
   "cell_type": "code",
   "execution_count": 5,
   "id": "386c0fbb-0b7e-4702-9cfd-d9b7af013bc9",
   "metadata": {},
   "outputs": [],
   "source": [
    "old_mlflow_runs = [\"mlflow:///776fa4318c834d8290c2eb4fcd98f3ac\",\n",
    "                   \"mlflow:///2d30f287626044fb8ec0c1749021e381\",\n",
    "                   \"mlflow:///5f4d0ed98ce544c482bc7dc408aeb93b\",\n",
    "                   \"mlflow:///7893fb6f508d417ea5b30f0b91884b93\",\n",
    "\n",
    "                   \"mlflow:///1ed703aec2a643dd99782d1a604cedc2\",\n",
    "                   \"mlflow:///5e3dcb49d2054974a223bc44eb807ca3\",\n",
    "                   \"mlflow:///a0ac847e0b0b4dc3b073a7cbeeda8208\",\n",
    "                   \"mlflow:///2c0dabc46f7947509698931814ae6d37\",\n",
    "\n",
    "                   \"mlflow:///405b08cf567f4d9489fac03cb60fb22b\",\n",
    "                   \"mlflow:///3e69c4453cdb4001afedb6e865d6f4de\",\n",
    "                   \"mlflow:///0260743d01e3458783597f4e2a1d2c90\",\n",
    "                   \"mlflow:///398a4f86c696412396e8f13080ffa3aa\",\n",
    "\n",
    "                   \"mlflow:///7ec2fea2f36b4fc9bcd9e8f21e47f87e\",\n",
    "                   \"mlflow:///c76a20f3c91f420f9c3acc1ba1f5eae7\",\n",
    "                   \"mlflow:///613ac70fb5d446b4a74f42f8c4a9f667\",\n",
    "                   \"mlflow:///13654d2844104dfdbc2c5afcc70fff9d\",\n",
    "\n",
    "                   \"mlflow:///9f95a043b84f47d6a947e5d6ce728ff8\",\n",
    "                   \"mlflow:///d5278921411f47acab4c2c9a024fd92b\",\n",
    "                   \"mlflow:///811758f752d74e5f8c642fbb7232ab3d\",\n",
    "                   \"mlflow:///215be13a50804da0ac2637b7d51691ea\",\n",
    "\n",
    "                   \"mlflow:///957115499f3a437994024102ce5d6a7b\",\n",
    "                   \"mlflow:///b98f62d4796e4098b12c7ceae6ccd344\",\n",
    "                   \"mlflow:///5cafe13f6a7e4788ac99514c0f3c3d89\",\n",
    "                   \"mlflow:///4c89f2540439493d9333c22a4a0b3d05\",\n",
    "\n",
    "                   \"mlflow:///5cc5993a95ce422e8e27e630eba20c60\",\n",
    "                   \"mlflow:///b94372d7701b47939f2087e15d29ea25\",\n",
    "                   \"mlflow:///6d61b0034c6c48d39fdaab3dfc6242b1\",\n",
    "                   \"mlflow:///1a4057dc85534a54a3a42073a707e4f9\"]"
   ]
  },
  {
   "cell_type": "code",
   "execution_count": 23,
   "id": "6b6aa967-d006-472e-bd98-543b68a9e786",
   "metadata": {},
   "outputs": [],
   "source": [
    "                         # Churn modelling\n",
    "numerical_mlflow_runs = [\"mlflow:///9a5be2a42818460fad79771dcbc31f7d\", # RF\n",
    "                         \"mlflow:///f86e1496c4c54d3c848060d5d71e907a\", # XGBoost\n",
    "                         \"mlflow:///c8ac001b4cb14ce895193fbf4c2b66c3\", # CatBoost\n",
    "                         \"mlflow:///646a911f42054eaeb4bdf2451336ae4f\", # LightGBM\n",
    "                         # Eye movements\n",
    "                         \"mlflow:///ec48e63b856e4ee48bc0a0b275dac82c\", # RF\n",
    "                         \"mlflow:///0dbcbda035614d3c84ea3c6a123a9488\", # XGBoost\n",
    "                         \"mlflow:///da33915e97b246a59c0e7d45a6927a44\", # CatBoost\n",
    "                         \"mlflow:///4369c9faa001416ba02a231b3103ada0\", # LightGBM\n",
    "                         # Forest cover\n",
    "                         \"mlflow:///a0213340533f460c9a31f00a2c05171a\", # RF\n",
    "                         \"mlflow:///8f1422bd63284437b767c16ca2201b29\", # XGBoost\n",
    "                         \"mlflow:///89802782db2b44428c8945b5a429d0bc\", # CatBoost\n",
    "                         \"mlflow:///33fae9e93c114cce81d62c9e44a1240b\", # LightGBM\n",
    "                         # Gas concentration\n",
    "                         \"mlflow:///419e2001aa7c463c932c574d7af6880f\", # RF\n",
    "                         \"mlflow:///fdbacb22e28342d69e1dc336afac1eac\", # XGBoost\n",
    "                         \"mlflow:///2e36c6bd012e45049fb963da227e4750\", # CatBoost\n",
    "                         \"mlflow:///171f98fdfded42b89ea4dbdf1e52ddf0\", # LightGBM\n",
    "                         # Gesture phase\n",
    "                         \"mlflow:///f079a7552c6047bf9208b34c1b28a4ef\", # RF\n",
    "                         \"mlflow:///8871a63a748a44a3b93bc6108de8ea79\", # XGBoost\n",
    "                         \"mlflow:///a79f26e89ced4df4b81bb13b6cd39b72\", # CatBoost\n",
    "                         \"mlflow:///6140eac47d7541f69989255d7b335925\", # LightGBM\n",
    "                         # Telco\n",
    "                         \"mlflow:///783fd070683a417ea86868bdc161bc03\", # RF\n",
    "                         \"mlflow:///ba8c1a01653a418e8435a9f6f0a5666b\", # XGBoost\n",
    "                         \"mlflow:///6545751be3bc4bdb9a0acfae34f3f13f\", # CatBoost\n",
    "                         \"mlflow:///8916bd24de524f4b9d1297e5a8622b76\", # LightGBM\n",
    "                         # Rossman\n",
    "                         \"mlflow:///5cc5993a95ce422e8e27e630eba20c60\", # RF\n",
    "                         \"mlflow:///b94372d7701b47939f2087e15d29ea25\", # XGBoost\n",
    "                         \"mlflow:///6d61b0034c6c48d39fdaab3dfc6242b1\", # CatBoost\n",
    "                         \"mlflow:///1a4057dc85534a54a3a42073a707e4f9\"] # LightGBM"
   ]
  },
  {
   "cell_type": "code",
   "execution_count": 1,
   "id": "4c623780-d9d1-48a8-911d-5e032d7f55e5",
   "metadata": {},
   "outputs": [],
   "source": [
    "               # Churn modelling (numerical)\n",
    "mlflow_runs = [\"mlflow:///c8ac001b4cb14ce895193fbf4c2b66c3\", # CatBoost (Round 5)\n",
    "               # \n",
    "               # Eye movements (numerical)\n",
    "               \"mlflow:///0dbcbda035614d3c84ea3c6a123a9488\", # XGBoost (Round 5)\n",
    "               # \n",
    "               # Forest cover (numerical)\n",
    "               \"mlflow:///165346fb809b4ccfabe39ce9617393f1\", # XGBoost (Round 6)\n",
    "               #                            \n",
    "               # Gas concentration (numerical)\n",
    "               \"mlflow:///56bc305886f240588ce1a32f8deadd09\", # RF (Round 6)\n",
    "               # \n",
    "               # Gesture phase (numerical)\n",
    "               \"mlflow:///8871a63a748a44a3b93bc6108de8ea79\", # XGBoost (Round 5)\n",
    "               # \n",
    "               # Telco (numerical)\n",
    "               \"mlflow:///f1630f43b74447d58a317aa4b58868a5\", # XGBoost (Round 6)\n",
    "               #\n",
    "               # Rossman (numerical)\n",
    "               \"mlflow:///a4a41de730bc49339c694c0a3576a5d5\", # XGBoost (Round 6)\n",
    "              ]"
   ]
  },
  {
   "cell_type": "code",
   "execution_count": 6,
   "id": "cec69457-ac82-4661-8e1b-251540acd5f3",
   "metadata": {},
   "outputs": [
    {
     "name": "stderr",
     "output_type": "stream",
     "text": [
      "/opt/conda/lib/python3.9/site-packages/ray/tune/analysis/experiment_analysis.py:303: UserWarning: Dataframes will use '/' instead of '.' to delimit nested result keys in future versions of Ray. For forward compatibility, set the environment variable TUNE_RESULT_DELIM='/'\n",
      "  warnings.warn(\n"
     ]
    }
   ],
   "source": [
    "model_info_list = [_get_best_run_info(run) for run in mlflow_runs]"
   ]
  },
  {
   "cell_type": "markdown",
   "id": "49b5f617-c398-4731-a70c-a2f3a07905ff",
   "metadata": {},
   "source": [
    "## Parsing Model Information, Generating Table"
   ]
  },
  {
   "cell_type": "code",
   "execution_count": 7,
   "id": "1ff73283-d3dd-415d-9583-0f262c584185",
   "metadata": {},
   "outputs": [
    {
     "name": "stdout",
     "output_type": "stream",
     "text": [
      "Loading model of type catboost, dataset churn_modelling:numerical\n",
      "Loading model of type xgboost, dataset eye_movements:numerical\n",
      "Loading model of type xgboost, dataset forest_cover_type:numerical\n",
      "Loading model of type rf, dataset gas_concentrations:numerical\n",
      "Loading model of type xgboost, dataset gesture_phase_segmentation:numerical\n",
      "Loading model of type xgboost, dataset telco_customer_churn:numerical\n",
      "Loading model of type xgboost, dataset rossmann_store_sales:numerical\n"
     ]
    }
   ],
   "source": [
    "parsed_model_list = [load_model(model) for model in model_info_list]"
   ]
  },
  {
   "cell_type": "code",
   "execution_count": 8,
   "id": "6df450a4-01d8-43c5-90a0-74b4aa2218b0",
   "metadata": {},
   "outputs": [],
   "source": [
    "parsed_model_df = pd.DataFrame(parsed_model_list)\n",
    "parsed_model_df[\"CAM_rows\"] = 256\n",
    "parsed_model_df[\"used_arrays\"] = np.ceil(parsed_model_df[\"n_trees\"] / (parsed_model_df[\"CAM_rows\"] / parsed_model_df[\"max_leaves\"]))\n",
    "parsed_model_df[\"is_valid\"] = parsed_model_df[\"used_arrays\"] <= 3000\n",
    "parsed_model_df.drop(columns = [\"params_path\", \"dataset_info\", \"trained_model\"],\n",
    "                     inplace = True)"
   ]
  },
  {
   "cell_type": "code",
   "execution_count": 9,
   "id": "4926932b-69a5-4a82-b12c-3d203d538424",
   "metadata": {},
   "outputs": [],
   "source": [
    "parsed_model_df.to_csv(\"parsed_models.csv\", index = False)"
   ]
  }
 ],
 "metadata": {
  "kernelspec": {
   "display_name": "Python 3 (ipykernel)",
   "language": "python",
   "name": "python3"
  },
  "language_info": {
   "codemirror_mode": {
    "name": "ipython",
    "version": 3
   },
   "file_extension": ".py",
   "mimetype": "text/x-python",
   "name": "python",
   "nbconvert_exporter": "python",
   "pygments_lexer": "ipython3",
   "version": "3.9.13"
  }
 },
 "nbformat": 4,
 "nbformat_minor": 5
}
