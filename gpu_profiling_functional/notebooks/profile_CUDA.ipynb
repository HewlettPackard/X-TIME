{
 "cells": [
  {
   "cell_type": "markdown",
   "id": "718fca7e-fc47-4b18-8ec8-8b57b857443d",
   "metadata": {
    "tags": []
   },
   "source": [
    "# Profiling CUDA Inference Implementations"
   ]
  },
  {
   "cell_type": "markdown",
   "id": "a4dec5b2-7d06-4b55-947b-c3925b57c21a",
   "metadata": {},
   "source": [
    "## Setup"
   ]
  },
  {
   "cell_type": "markdown",
   "id": "77875aa2-2c09-41f9-8f8a-5f994060e65b",
   "metadata": {},
   "source": [
    "Add source paths to allow importing scripts from other directories"
   ]
  },
  {
   "cell_type": "code",
   "execution_count": 1,
   "id": "db3ec553-3ef3-41a0-81a8-581f09e75090",
   "metadata": {},
   "outputs": [],
   "source": [
    "import sys\n",
    "import os\n",
    "import json\n",
    "import warnings\n",
    "\n",
    "from tqdm.notebook import (tqdm, trange)\n",
    "\n",
    "module_path = os.path.abspath(os.path.join(\"..\"))\n",
    "code_dirs = [\"src\", \"src/profile_utils\"]\n",
    "\n",
    "for d in code_dirs:\n",
    "    code_path = os.path.join(module_path, d)\n",
    "    if code_path not in sys.path:\n",
    "        sys.path.append(code_path)"
   ]
  },
  {
   "cell_type": "code",
   "execution_count": 2,
   "id": "8be6194d-3620-4ecb-9493-02f71a7e4790",
   "metadata": {},
   "outputs": [],
   "source": [
    "%load_ext autoreload"
   ]
  },
  {
   "cell_type": "code",
   "execution_count": 3,
   "id": "a98c5e38-ec94-46e8-a20f-996057eea95c",
   "metadata": {},
   "outputs": [],
   "source": [
    "%autoreload 2"
   ]
  },
  {
   "cell_type": "code",
   "execution_count": 4,
   "id": "632d0b37-49b9-4bd0-8b71-ea0107f43e21",
   "metadata": {},
   "outputs": [],
   "source": [
    "%load_ext rpy2.ipython"
   ]
  },
  {
   "cell_type": "code",
   "execution_count": 5,
   "id": "2aba1018-dbb2-4353-809c-7a3bc64f9e86",
   "metadata": {},
   "outputs": [],
   "source": [
    "import numpy as np\n",
    "import pandas as pd\n",
    "import os\n",
    "from tqdm.notebook import trange, tqdm\n",
    "\n",
    "import xgboost as xgb\n",
    "import catboost\n",
    "import sklearn.ensemble\n",
    "import cuml\n",
    "\n",
    "import pickle\n",
    "\n",
    "from sklearn.metrics import (mean_squared_error,\n",
    "                             classification_report,\n",
    "                             accuracy_score)\n",
    "\n",
    "from sklearn.model_selection import StratifiedKFold, train_test_split\n",
    "from sklearn.datasets import fetch_covtype\n",
    "\n",
    "from profile_utils import (train_model_xgb,\n",
    "                           train_model_rf,\n",
    "                           train_model_cb,\n",
    "                           profile_inference,\n",
    "                           clean_profile)\n",
    "\n",
    "from mlflow_loader import (_get_best_run_info,\n",
    "                           load_model,\n",
    "                           load_dataset,\n",
    "                           load_dataset_from_str,\n",
    "                           load_model_from_str)\n",
    "\n",
    "from cosmetics import *\n",
    "\n",
    "import mlflow\n",
    "import ray\n",
    "import yaml\n",
    "\n",
    "import typing as t\n",
    "import pandas as pd\n",
    "import numpy as np\n",
    "\n",
    "from mlflow.utils.file_utils import local_file_uri_to_path\n",
    "\n",
    "from ray import tune\n",
    "from ray.tune.suggest import ConcurrencyLimiter\n",
    "from ray.tune.suggest.hyperopt import HyperOptSearch\n",
    "from ray.tune.trial import Trial"
   ]
  },
  {
   "cell_type": "markdown",
   "id": "6aa37afd-5691-4756-bdbe-b7cf43711b68",
   "metadata": {
    "tags": []
   },
   "source": [
    "## Profiling Inference on GPU"
   ]
  },
  {
   "cell_type": "markdown",
   "id": "6a69a2e6-6c0e-4035-884e-2c248422e807",
   "metadata": {},
   "source": [
    "### Loading MLFlow Selected Models"
   ]
  },
  {
   "cell_type": "markdown",
   "id": "9389b3bd-f8fc-451c-aef6-afac5e94604c",
   "metadata": {},
   "source": [
    "See `parse_mlflow_notebook.ipynb` to generate the `csv` file that guided the choices below:"
   ]
  },
  {
   "cell_type": "code",
   "execution_count": 6,
   "id": "42faacba-c2dd-4899-8deb-4810c1ac7022",
   "metadata": {},
   "outputs": [
    {
     "name": "stderr",
     "output_type": "stream",
     "text": [
      "/opt/conda/lib/python3.9/site-packages/ray/tune/analysis/experiment_analysis.py:303: UserWarning: Dataframes will use '/' instead of '.' to delimit nested result keys in future versions of Ray. For forward compatibility, set the environment variable TUNE_RESULT_DELIM='/'\n",
      "  warnings.warn(\n"
     ]
    }
   ],
   "source": [
    "               # Churn modelling (numerical)\n",
    "mlflow_runs = [\"mlflow:///c8ac001b4cb14ce895193fbf4c2b66c3\", # CatBoost (Round 5)\n",
    "               # \n",
    "               # Eye movements (numerical)\n",
    "               \"mlflow:///0dbcbda035614d3c84ea3c6a123a9488\", # XGBoost (Round 5)\n",
    "               # \n",
    "               # Forest cover (numerical)\n",
    "               \"mlflow:///165346fb809b4ccfabe39ce9617393f1\", # XGBoost (Round 6)\n",
    "               #                            \n",
    "               # Gas concentration (numerical)\n",
    "               \"mlflow:///56bc305886f240588ce1a32f8deadd09\", # RF (Round 6)\n",
    "               # \n",
    "               # Gesture phase (numerical)\n",
    "               \"mlflow:///8871a63a748a44a3b93bc6108de8ea79\", # XGBoost (Round 5)\n",
    "               # \n",
    "               # Telco (numerical)\n",
    "               \"mlflow:///f1630f43b74447d58a317aa4b58868a5\", # XGBoost (Round 6)\n",
    "               #\n",
    "               # Rossman (numerical)\n",
    "               \"mlflow:///a4a41de730bc49339c694c0a3576a5d5\", # XGBoost (Round 6)\n",
    "              ]\n",
    "\n",
    "model_info_list = [_get_best_run_info(run) for run in mlflow_runs]"
   ]
  },
  {
   "cell_type": "markdown",
   "id": "33740cb7-e0af-4173-adb8-26606f2f9d7b",
   "metadata": {},
   "source": [
    "### Profile Selected Models"
   ]
  },
  {
   "cell_type": "code",
   "execution_count": 7,
   "id": "87cd3b6e-79a4-4237-9a25-a27ba80055a1",
   "metadata": {
    "tags": []
   },
   "outputs": [
    {
     "data": {
      "application/vnd.jupyter.widget-view+json": {
       "model_id": "6a6ec168f0b14503af5920528fb43d07",
       "version_major": 2,
       "version_minor": 0
      },
      "text/plain": [
       "  0%|          | 0/7 [00:00<?, ?it/s]"
      ]
     },
     "metadata": {},
     "output_type": "display_data"
    },
    {
     "name": "stdout",
     "output_type": "stream",
     "text": [
      "Current batches: [   1    4   21   97  445 2048]\n",
      "Current batches: [     1     13    194   2702  37640 524288]\n",
      "Current batches: [     1     13    194   2702  37640 524288]\n",
      "Current batches: [     1     13    194   2702  37640 524288]\n"
     ]
    },
    {
     "name": "stderr",
     "output_type": "stream",
     "text": [
      "/opt/conda/lib/python3.9/site-packages/sklearn/utils/deprecation.py:103: FutureWarning: Attribute `n_features_` was deprecated in version 1.0 and will be removed in 1.2. Use `n_features_in_` instead.\n",
      "  warnings.warn(msg, category=FutureWarning)\n"
     ]
    },
    {
     "name": "stdout",
     "output_type": "stream",
     "text": [
      "[W] [02:55:31.816676] Treelite currently does not support float64 model parameters. Accuracy may degrade slightly relative to native sklearn invocation.\n"
     ]
    },
    {
     "name": "stderr",
     "output_type": "stream",
     "text": [
      "Traceback (most recent call last):\n",
      "  File \"cuml/fil/fil.pyx\", line 273, in cuml.fil.fil.ForestInference_impl.get_dtype\n",
      "AttributeError: 'NoneType' object has no attribute 'float32'\n",
      "Exception ignored in: 'cuml.fil.fil.ForestInference_impl.__dealloc__'\n",
      "Traceback (most recent call last):\n",
      "  File \"cuml/fil/fil.pyx\", line 273, in cuml.fil.fil.ForestInference_impl.get_dtype\n",
      "AttributeError: 'NoneType' object has no attribute 'float32'\n",
      "/opt/conda/lib/python3.9/site-packages/sklearn/utils/deprecation.py:103: FutureWarning: Attribute `n_features_` was deprecated in version 1.0 and will be removed in 1.2. Use `n_features_in_` instead.\n",
      "  warnings.warn(msg, category=FutureWarning)\n"
     ]
    },
    {
     "name": "stdout",
     "output_type": "stream",
     "text": [
      "[W] [02:55:42.637135] Treelite currently does not support float64 model parameters. Accuracy may degrade slightly relative to native sklearn invocation.\n"
     ]
    },
    {
     "name": "stderr",
     "output_type": "stream",
     "text": [
      "Traceback (most recent call last):\n",
      "  File \"cuml/fil/fil.pyx\", line 273, in cuml.fil.fil.ForestInference_impl.get_dtype\n",
      "AttributeError: 'NoneType' object has no attribute 'float32'\n",
      "Exception ignored in: 'cuml.fil.fil.ForestInference_impl.__dealloc__'\n",
      "Traceback (most recent call last):\n",
      "  File \"cuml/fil/fil.pyx\", line 273, in cuml.fil.fil.ForestInference_impl.get_dtype\n",
      "AttributeError: 'NoneType' object has no attribute 'float32'\n",
      "/opt/conda/lib/python3.9/site-packages/sklearn/utils/deprecation.py:103: FutureWarning: Attribute `n_features_` was deprecated in version 1.0 and will be removed in 1.2. Use `n_features_in_` instead.\n",
      "  warnings.warn(msg, category=FutureWarning)\n"
     ]
    },
    {
     "name": "stdout",
     "output_type": "stream",
     "text": [
      "[W] [02:55:53.077354] Treelite currently does not support float64 model parameters. Accuracy may degrade slightly relative to native sklearn invocation.\n"
     ]
    },
    {
     "name": "stderr",
     "output_type": "stream",
     "text": [
      "Traceback (most recent call last):\n",
      "  File \"cuml/fil/fil.pyx\", line 273, in cuml.fil.fil.ForestInference_impl.get_dtype\n",
      "AttributeError: 'NoneType' object has no attribute 'float32'\n",
      "Exception ignored in: 'cuml.fil.fil.ForestInference_impl.__dealloc__'\n",
      "Traceback (most recent call last):\n",
      "  File \"cuml/fil/fil.pyx\", line 273, in cuml.fil.fil.ForestInference_impl.get_dtype\n",
      "AttributeError: 'NoneType' object has no attribute 'float32'\n",
      "/opt/conda/lib/python3.9/site-packages/sklearn/utils/deprecation.py:103: FutureWarning: Attribute `n_features_` was deprecated in version 1.0 and will be removed in 1.2. Use `n_features_in_` instead.\n",
      "  warnings.warn(msg, category=FutureWarning)\n"
     ]
    },
    {
     "name": "stdout",
     "output_type": "stream",
     "text": [
      "[W] [02:56:03.575239] Treelite currently does not support float64 model parameters. Accuracy may degrade slightly relative to native sklearn invocation.\n"
     ]
    },
    {
     "name": "stderr",
     "output_type": "stream",
     "text": [
      "Traceback (most recent call last):\n",
      "  File \"cuml/fil/fil.pyx\", line 273, in cuml.fil.fil.ForestInference_impl.get_dtype\n",
      "AttributeError: 'NoneType' object has no attribute 'float32'\n",
      "Exception ignored in: 'cuml.fil.fil.ForestInference_impl.__dealloc__'\n",
      "Traceback (most recent call last):\n",
      "  File \"cuml/fil/fil.pyx\", line 273, in cuml.fil.fil.ForestInference_impl.get_dtype\n",
      "AttributeError: 'NoneType' object has no attribute 'float32'\n",
      "/opt/conda/lib/python3.9/site-packages/sklearn/utils/deprecation.py:103: FutureWarning: Attribute `n_features_` was deprecated in version 1.0 and will be removed in 1.2. Use `n_features_in_` instead.\n",
      "  warnings.warn(msg, category=FutureWarning)\n"
     ]
    },
    {
     "name": "stdout",
     "output_type": "stream",
     "text": [
      "[W] [02:56:13.990968] Treelite currently does not support float64 model parameters. Accuracy may degrade slightly relative to native sklearn invocation.\n"
     ]
    },
    {
     "name": "stderr",
     "output_type": "stream",
     "text": [
      "Traceback (most recent call last):\n",
      "  File \"cuml/fil/fil.pyx\", line 273, in cuml.fil.fil.ForestInference_impl.get_dtype\n",
      "AttributeError: 'NoneType' object has no attribute 'float32'\n",
      "Exception ignored in: 'cuml.fil.fil.ForestInference_impl.__dealloc__'\n",
      "Traceback (most recent call last):\n",
      "  File \"cuml/fil/fil.pyx\", line 273, in cuml.fil.fil.ForestInference_impl.get_dtype\n",
      "AttributeError: 'NoneType' object has no attribute 'float32'\n",
      "/opt/conda/lib/python3.9/site-packages/sklearn/utils/deprecation.py:103: FutureWarning: Attribute `n_features_` was deprecated in version 1.0 and will be removed in 1.2. Use `n_features_in_` instead.\n",
      "  warnings.warn(msg, category=FutureWarning)\n"
     ]
    },
    {
     "name": "stdout",
     "output_type": "stream",
     "text": [
      "[W] [02:56:24.388572] Treelite currently does not support float64 model parameters. Accuracy may degrade slightly relative to native sklearn invocation.\n"
     ]
    },
    {
     "name": "stderr",
     "output_type": "stream",
     "text": [
      "Traceback (most recent call last):\n",
      "  File \"cuml/fil/fil.pyx\", line 273, in cuml.fil.fil.ForestInference_impl.get_dtype\n",
      "AttributeError: 'NoneType' object has no attribute 'float32'\n",
      "Exception ignored in: 'cuml.fil.fil.ForestInference_impl.__dealloc__'\n",
      "Traceback (most recent call last):\n",
      "  File \"cuml/fil/fil.pyx\", line 273, in cuml.fil.fil.ForestInference_impl.get_dtype\n",
      "AttributeError: 'NoneType' object has no attribute 'float32'\n",
      "/opt/conda/lib/python3.9/site-packages/sklearn/utils/deprecation.py:103: FutureWarning: Attribute `n_features_` was deprecated in version 1.0 and will be removed in 1.2. Use `n_features_in_` instead.\n",
      "  warnings.warn(msg, category=FutureWarning)\n"
     ]
    },
    {
     "name": "stdout",
     "output_type": "stream",
     "text": [
      "[W] [02:56:34.490108] Treelite currently does not support float64 model parameters. Accuracy may degrade slightly relative to native sklearn invocation.\n"
     ]
    },
    {
     "name": "stderr",
     "output_type": "stream",
     "text": [
      "Traceback (most recent call last):\n",
      "  File \"cuml/fil/fil.pyx\", line 273, in cuml.fil.fil.ForestInference_impl.get_dtype\n",
      "AttributeError: 'NoneType' object has no attribute 'float32'\n",
      "Exception ignored in: 'cuml.fil.fil.ForestInference_impl.__dealloc__'\n",
      "Traceback (most recent call last):\n",
      "  File \"cuml/fil/fil.pyx\", line 273, in cuml.fil.fil.ForestInference_impl.get_dtype\n",
      "AttributeError: 'NoneType' object has no attribute 'float32'\n",
      "/opt/conda/lib/python3.9/site-packages/sklearn/utils/deprecation.py:103: FutureWarning: Attribute `n_features_` was deprecated in version 1.0 and will be removed in 1.2. Use `n_features_in_` instead.\n",
      "  warnings.warn(msg, category=FutureWarning)\n"
     ]
    },
    {
     "name": "stdout",
     "output_type": "stream",
     "text": [
      "[W] [02:56:44.824747] Treelite currently does not support float64 model parameters. Accuracy may degrade slightly relative to native sklearn invocation.\n"
     ]
    },
    {
     "name": "stderr",
     "output_type": "stream",
     "text": [
      "Traceback (most recent call last):\n",
      "  File \"cuml/fil/fil.pyx\", line 273, in cuml.fil.fil.ForestInference_impl.get_dtype\n",
      "AttributeError: 'NoneType' object has no attribute 'float32'\n",
      "Exception ignored in: 'cuml.fil.fil.ForestInference_impl.__dealloc__'\n",
      "Traceback (most recent call last):\n",
      "  File \"cuml/fil/fil.pyx\", line 273, in cuml.fil.fil.ForestInference_impl.get_dtype\n",
      "AttributeError: 'NoneType' object has no attribute 'float32'\n",
      "/opt/conda/lib/python3.9/site-packages/sklearn/utils/deprecation.py:103: FutureWarning: Attribute `n_features_` was deprecated in version 1.0 and will be removed in 1.2. Use `n_features_in_` instead.\n",
      "  warnings.warn(msg, category=FutureWarning)\n"
     ]
    },
    {
     "name": "stdout",
     "output_type": "stream",
     "text": [
      "[W] [02:56:54.994621] Treelite currently does not support float64 model parameters. Accuracy may degrade slightly relative to native sklearn invocation.\n"
     ]
    },
    {
     "name": "stderr",
     "output_type": "stream",
     "text": [
      "Traceback (most recent call last):\n",
      "  File \"cuml/fil/fil.pyx\", line 273, in cuml.fil.fil.ForestInference_impl.get_dtype\n",
      "AttributeError: 'NoneType' object has no attribute 'float32'\n",
      "Exception ignored in: 'cuml.fil.fil.ForestInference_impl.__dealloc__'\n",
      "Traceback (most recent call last):\n",
      "  File \"cuml/fil/fil.pyx\", line 273, in cuml.fil.fil.ForestInference_impl.get_dtype\n",
      "AttributeError: 'NoneType' object has no attribute 'float32'\n",
      "/opt/conda/lib/python3.9/site-packages/sklearn/utils/deprecation.py:103: FutureWarning: Attribute `n_features_` was deprecated in version 1.0 and will be removed in 1.2. Use `n_features_in_` instead.\n",
      "  warnings.warn(msg, category=FutureWarning)\n"
     ]
    },
    {
     "name": "stdout",
     "output_type": "stream",
     "text": [
      "[W] [02:57:05.984413] Treelite currently does not support float64 model parameters. Accuracy may degrade slightly relative to native sklearn invocation.\n"
     ]
    },
    {
     "name": "stderr",
     "output_type": "stream",
     "text": [
      "Traceback (most recent call last):\n",
      "  File \"cuml/fil/fil.pyx\", line 273, in cuml.fil.fil.ForestInference_impl.get_dtype\n",
      "AttributeError: 'NoneType' object has no attribute 'float32'\n",
      "Exception ignored in: 'cuml.fil.fil.ForestInference_impl.__dealloc__'\n",
      "Traceback (most recent call last):\n",
      "  File \"cuml/fil/fil.pyx\", line 273, in cuml.fil.fil.ForestInference_impl.get_dtype\n",
      "AttributeError: 'NoneType' object has no attribute 'float32'\n",
      "/opt/conda/lib/python3.9/site-packages/sklearn/utils/deprecation.py:103: FutureWarning: Attribute `n_features_` was deprecated in version 1.0 and will be removed in 1.2. Use `n_features_in_` instead.\n",
      "  warnings.warn(msg, category=FutureWarning)\n"
     ]
    },
    {
     "name": "stdout",
     "output_type": "stream",
     "text": [
      "[W] [02:57:16.469211] Treelite currently does not support float64 model parameters. Accuracy may degrade slightly relative to native sklearn invocation.\n"
     ]
    },
    {
     "name": "stderr",
     "output_type": "stream",
     "text": [
      "Traceback (most recent call last):\n",
      "  File \"cuml/fil/fil.pyx\", line 273, in cuml.fil.fil.ForestInference_impl.get_dtype\n",
      "AttributeError: 'NoneType' object has no attribute 'float32'\n",
      "Exception ignored in: 'cuml.fil.fil.ForestInference_impl.__dealloc__'\n",
      "Traceback (most recent call last):\n",
      "  File \"cuml/fil/fil.pyx\", line 273, in cuml.fil.fil.ForestInference_impl.get_dtype\n",
      "AttributeError: 'NoneType' object has no attribute 'float32'\n",
      "/opt/conda/lib/python3.9/site-packages/sklearn/utils/deprecation.py:103: FutureWarning: Attribute `n_features_` was deprecated in version 1.0 and will be removed in 1.2. Use `n_features_in_` instead.\n",
      "  warnings.warn(msg, category=FutureWarning)\n"
     ]
    },
    {
     "name": "stdout",
     "output_type": "stream",
     "text": [
      "[W] [02:57:26.822091] Treelite currently does not support float64 model parameters. Accuracy may degrade slightly relative to native sklearn invocation.\n"
     ]
    },
    {
     "name": "stderr",
     "output_type": "stream",
     "text": [
      "Traceback (most recent call last):\n",
      "  File \"cuml/fil/fil.pyx\", line 273, in cuml.fil.fil.ForestInference_impl.get_dtype\n",
      "AttributeError: 'NoneType' object has no attribute 'float32'\n",
      "Exception ignored in: 'cuml.fil.fil.ForestInference_impl.__dealloc__'\n",
      "Traceback (most recent call last):\n",
      "  File \"cuml/fil/fil.pyx\", line 273, in cuml.fil.fil.ForestInference_impl.get_dtype\n",
      "AttributeError: 'NoneType' object has no attribute 'float32'\n",
      "/opt/conda/lib/python3.9/site-packages/sklearn/utils/deprecation.py:103: FutureWarning: Attribute `n_features_` was deprecated in version 1.0 and will be removed in 1.2. Use `n_features_in_` instead.\n",
      "  warnings.warn(msg, category=FutureWarning)\n"
     ]
    },
    {
     "name": "stdout",
     "output_type": "stream",
     "text": [
      "[W] [02:57:37.310990] Treelite currently does not support float64 model parameters. Accuracy may degrade slightly relative to native sklearn invocation.\n"
     ]
    },
    {
     "name": "stderr",
     "output_type": "stream",
     "text": [
      "Traceback (most recent call last):\n",
      "  File \"cuml/fil/fil.pyx\", line 273, in cuml.fil.fil.ForestInference_impl.get_dtype\n",
      "AttributeError: 'NoneType' object has no attribute 'float32'\n",
      "Exception ignored in: 'cuml.fil.fil.ForestInference_impl.__dealloc__'\n",
      "Traceback (most recent call last):\n",
      "  File \"cuml/fil/fil.pyx\", line 273, in cuml.fil.fil.ForestInference_impl.get_dtype\n",
      "AttributeError: 'NoneType' object has no attribute 'float32'\n",
      "/opt/conda/lib/python3.9/site-packages/sklearn/utils/deprecation.py:103: FutureWarning: Attribute `n_features_` was deprecated in version 1.0 and will be removed in 1.2. Use `n_features_in_` instead.\n",
      "  warnings.warn(msg, category=FutureWarning)\n"
     ]
    },
    {
     "name": "stdout",
     "output_type": "stream",
     "text": [
      "[W] [02:57:47.862316] Treelite currently does not support float64 model parameters. Accuracy may degrade slightly relative to native sklearn invocation.\n"
     ]
    },
    {
     "name": "stderr",
     "output_type": "stream",
     "text": [
      "Traceback (most recent call last):\n",
      "  File \"cuml/fil/fil.pyx\", line 273, in cuml.fil.fil.ForestInference_impl.get_dtype\n",
      "AttributeError: 'NoneType' object has no attribute 'float32'\n",
      "Exception ignored in: 'cuml.fil.fil.ForestInference_impl.__dealloc__'\n",
      "Traceback (most recent call last):\n",
      "  File \"cuml/fil/fil.pyx\", line 273, in cuml.fil.fil.ForestInference_impl.get_dtype\n",
      "AttributeError: 'NoneType' object has no attribute 'float32'\n",
      "/opt/conda/lib/python3.9/site-packages/sklearn/utils/deprecation.py:103: FutureWarning: Attribute `n_features_` was deprecated in version 1.0 and will be removed in 1.2. Use `n_features_in_` instead.\n",
      "  warnings.warn(msg, category=FutureWarning)\n"
     ]
    },
    {
     "name": "stdout",
     "output_type": "stream",
     "text": [
      "[W] [02:57:58.258018] Treelite currently does not support float64 model parameters. Accuracy may degrade slightly relative to native sklearn invocation.\n"
     ]
    },
    {
     "name": "stderr",
     "output_type": "stream",
     "text": [
      "Traceback (most recent call last):\n",
      "  File \"cuml/fil/fil.pyx\", line 273, in cuml.fil.fil.ForestInference_impl.get_dtype\n",
      "AttributeError: 'NoneType' object has no attribute 'float32'\n",
      "Exception ignored in: 'cuml.fil.fil.ForestInference_impl.__dealloc__'\n",
      "Traceback (most recent call last):\n",
      "  File \"cuml/fil/fil.pyx\", line 273, in cuml.fil.fil.ForestInference_impl.get_dtype\n",
      "AttributeError: 'NoneType' object has no attribute 'float32'\n",
      "/opt/conda/lib/python3.9/site-packages/sklearn/utils/deprecation.py:103: FutureWarning: Attribute `n_features_` was deprecated in version 1.0 and will be removed in 1.2. Use `n_features_in_` instead.\n",
      "  warnings.warn(msg, category=FutureWarning)\n"
     ]
    },
    {
     "name": "stdout",
     "output_type": "stream",
     "text": [
      "[W] [02:58:08.640815] Treelite currently does not support float64 model parameters. Accuracy may degrade slightly relative to native sklearn invocation.\n"
     ]
    },
    {
     "name": "stderr",
     "output_type": "stream",
     "text": [
      "Traceback (most recent call last):\n",
      "  File \"cuml/fil/fil.pyx\", line 273, in cuml.fil.fil.ForestInference_impl.get_dtype\n",
      "AttributeError: 'NoneType' object has no attribute 'float32'\n",
      "Exception ignored in: 'cuml.fil.fil.ForestInference_impl.__dealloc__'\n",
      "Traceback (most recent call last):\n",
      "  File \"cuml/fil/fil.pyx\", line 273, in cuml.fil.fil.ForestInference_impl.get_dtype\n",
      "AttributeError: 'NoneType' object has no attribute 'float32'\n",
      "/opt/conda/lib/python3.9/site-packages/sklearn/utils/deprecation.py:103: FutureWarning: Attribute `n_features_` was deprecated in version 1.0 and will be removed in 1.2. Use `n_features_in_` instead.\n",
      "  warnings.warn(msg, category=FutureWarning)\n"
     ]
    },
    {
     "name": "stdout",
     "output_type": "stream",
     "text": [
      "[W] [02:58:21.178781] Treelite currently does not support float64 model parameters. Accuracy may degrade slightly relative to native sklearn invocation.\n"
     ]
    },
    {
     "name": "stderr",
     "output_type": "stream",
     "text": [
      "Traceback (most recent call last):\n",
      "  File \"cuml/fil/fil.pyx\", line 273, in cuml.fil.fil.ForestInference_impl.get_dtype\n",
      "AttributeError: 'NoneType' object has no attribute 'float32'\n",
      "Exception ignored in: 'cuml.fil.fil.ForestInference_impl.__dealloc__'\n",
      "Traceback (most recent call last):\n",
      "  File \"cuml/fil/fil.pyx\", line 273, in cuml.fil.fil.ForestInference_impl.get_dtype\n",
      "AttributeError: 'NoneType' object has no attribute 'float32'\n",
      "/opt/conda/lib/python3.9/site-packages/sklearn/utils/deprecation.py:103: FutureWarning: Attribute `n_features_` was deprecated in version 1.0 and will be removed in 1.2. Use `n_features_in_` instead.\n",
      "  warnings.warn(msg, category=FutureWarning)\n"
     ]
    },
    {
     "name": "stdout",
     "output_type": "stream",
     "text": [
      "[W] [02:58:33.553947] Treelite currently does not support float64 model parameters. Accuracy may degrade slightly relative to native sklearn invocation.\n"
     ]
    },
    {
     "name": "stderr",
     "output_type": "stream",
     "text": [
      "Traceback (most recent call last):\n",
      "  File \"cuml/fil/fil.pyx\", line 273, in cuml.fil.fil.ForestInference_impl.get_dtype\n",
      "AttributeError: 'NoneType' object has no attribute 'float32'\n",
      "Exception ignored in: 'cuml.fil.fil.ForestInference_impl.__dealloc__'\n",
      "Traceback (most recent call last):\n",
      "  File \"cuml/fil/fil.pyx\", line 273, in cuml.fil.fil.ForestInference_impl.get_dtype\n",
      "AttributeError: 'NoneType' object has no attribute 'float32'\n"
     ]
    },
    {
     "name": "stdout",
     "output_type": "stream",
     "text": [
      "Current batches: [     1     13    194   2702  37640 524288]\n",
      "Current batches: [     1     13    194   2702  37640 524288]\n",
      "Current batches: [     1     13    194   2702  37640 524288]\n"
     ]
    }
   ],
   "source": [
    "catboost_batches = np.logspace(0, 11, num = 6, base = 2.0, dtype = int)\n",
    "others_batches = np.logspace(0, 19, num = 6, base = 2.0, dtype = int)\n",
    "# catboost_batches = np.logspace(0, 4, num = 2, base = 2.0, dtype = int)\n",
    "# others_batches = np.logspace(0, 4, num = 2, base = 2.0, dtype = int)\n",
    "\n",
    "results_df = pd.DataFrame()\n",
    "\n",
    "for model_info in tqdm(model_info_list):\n",
    "    if model_info[\"model\"] == \"catboost\":\n",
    "        batches = catboost_batches\n",
    "    else:\n",
    "        batches = others_batches\n",
    "        \n",
    "    print(f\"Current batches: {batches}\")\n",
    "    \n",
    "    for batch_size in batches:\n",
    "        with warnings.catch_warnings():\n",
    "            warnings.simplefilter(\"ignore\")\n",
    "            partial_df = profile_inference(model_info, runs = 3, batch_size = batch_size)\n",
    "\n",
    "        if results_df.empty:\n",
    "            results_df = partial_df\n",
    "        else:\n",
    "            results_df = pd.concat([results_df, partial_df])\n",
    "            results_df.reset_index(drop = True, inplace = True)\n",
    "            \n",
    "        results_df.to_csv(\"../data/profiling_results/gpu_profiling_results_P100.csv\", index = False)"
   ]
  },
  {
   "cell_type": "code",
   "execution_count": 8,
   "id": "27aab8d8-2566-48fa-ab4d-aacda43fd0f9",
   "metadata": {},
   "outputs": [
    {
     "data": {
      "text/html": [
       "<div>\n",
       "<style scoped>\n",
       "    .dataframe tbody tr th:only-of-type {\n",
       "        vertical-align: middle;\n",
       "    }\n",
       "\n",
       "    .dataframe tbody tr th {\n",
       "        vertical-align: top;\n",
       "    }\n",
       "\n",
       "    .dataframe thead th {\n",
       "        text-align: right;\n",
       "    }\n",
       "</style>\n",
       "<table border=\"1\" class=\"dataframe\">\n",
       "  <thead>\n",
       "    <tr style=\"text-align: right;\">\n",
       "      <th></th>\n",
       "      <th>time_ms</th>\n",
       "      <th>kernel</th>\n",
       "      <th>run_id</th>\n",
       "      <th>batch_size</th>\n",
       "      <th>time_proportion</th>\n",
       "      <th>model</th>\n",
       "      <th>dataset</th>\n",
       "    </tr>\n",
       "  </thead>\n",
       "  <tbody>\n",
       "    <tr>\n",
       "      <th>0</th>\n",
       "      <td>0.244350</td>\n",
       "      <td>EvalObliviousTrees(uchar4 const *, unsigned in...</td>\n",
       "      <td>0</td>\n",
       "      <td>1</td>\n",
       "      <td>0.854619</td>\n",
       "      <td>catboost</td>\n",
       "      <td>churn_modelling:numerical</td>\n",
       "    </tr>\n",
       "    <tr>\n",
       "      <th>1</th>\n",
       "      <td>0.261182</td>\n",
       "      <td>EvalObliviousTrees(uchar4 const *, unsigned in...</td>\n",
       "      <td>1</td>\n",
       "      <td>1</td>\n",
       "      <td>0.864343</td>\n",
       "      <td>catboost</td>\n",
       "      <td>churn_modelling:numerical</td>\n",
       "    </tr>\n",
       "    <tr>\n",
       "      <th>2</th>\n",
       "      <td>0.242590</td>\n",
       "      <td>EvalObliviousTrees(uchar4 const *, unsigned in...</td>\n",
       "      <td>2</td>\n",
       "      <td>1</td>\n",
       "      <td>0.852276</td>\n",
       "      <td>catboost</td>\n",
       "      <td>churn_modelling:numerical</td>\n",
       "    </tr>\n",
       "    <tr>\n",
       "      <th>3</th>\n",
       "      <td>0.259357</td>\n",
       "      <td>EvalObliviousTrees(uchar4 const *, unsigned in...</td>\n",
       "      <td>0</td>\n",
       "      <td>4</td>\n",
       "      <td>0.861866</td>\n",
       "      <td>catboost</td>\n",
       "      <td>churn_modelling:numerical</td>\n",
       "    </tr>\n",
       "    <tr>\n",
       "      <th>4</th>\n",
       "      <td>0.262686</td>\n",
       "      <td>EvalObliviousTrees(uchar4 const *, unsigned in...</td>\n",
       "      <td>1</td>\n",
       "      <td>4</td>\n",
       "      <td>0.863562</td>\n",
       "      <td>catboost</td>\n",
       "      <td>churn_modelling:numerical</td>\n",
       "    </tr>\n",
       "    <tr>\n",
       "      <th>...</th>\n",
       "      <td>...</td>\n",
       "      <td>...</td>\n",
       "      <td>...</td>\n",
       "      <td>...</td>\n",
       "      <td>...</td>\n",
       "      <td>...</td>\n",
       "      <td>...</td>\n",
       "    </tr>\n",
       "    <tr>\n",
       "      <th>121</th>\n",
       "      <td>36.877372</td>\n",
       "      <td>void xgboost::predictor::PredictKernel&lt;xgboost...</td>\n",
       "      <td>1</td>\n",
       "      <td>37640</td>\n",
       "      <td>0.670699</td>\n",
       "      <td>xgboost</td>\n",
       "      <td>rossmann_store_sales:numerical</td>\n",
       "    </tr>\n",
       "    <tr>\n",
       "      <th>122</th>\n",
       "      <td>37.644087</td>\n",
       "      <td>void xgboost::predictor::PredictKernel&lt;xgboost...</td>\n",
       "      <td>2</td>\n",
       "      <td>37640</td>\n",
       "      <td>0.701865</td>\n",
       "      <td>xgboost</td>\n",
       "      <td>rossmann_store_sales:numerical</td>\n",
       "    </tr>\n",
       "    <tr>\n",
       "      <th>123</th>\n",
       "      <td>357.568274</td>\n",
       "      <td>void xgboost::predictor::PredictKernel&lt;xgboost...</td>\n",
       "      <td>0</td>\n",
       "      <td>524288</td>\n",
       "      <td>0.856416</td>\n",
       "      <td>xgboost</td>\n",
       "      <td>rossmann_store_sales:numerical</td>\n",
       "    </tr>\n",
       "    <tr>\n",
       "      <th>124</th>\n",
       "      <td>343.221714</td>\n",
       "      <td>void xgboost::predictor::PredictKernel&lt;xgboost...</td>\n",
       "      <td>1</td>\n",
       "      <td>524288</td>\n",
       "      <td>0.844479</td>\n",
       "      <td>xgboost</td>\n",
       "      <td>rossmann_store_sales:numerical</td>\n",
       "    </tr>\n",
       "    <tr>\n",
       "      <th>125</th>\n",
       "      <td>342.782582</td>\n",
       "      <td>void xgboost::predictor::PredictKernel&lt;xgboost...</td>\n",
       "      <td>2</td>\n",
       "      <td>524288</td>\n",
       "      <td>0.854210</td>\n",
       "      <td>xgboost</td>\n",
       "      <td>rossmann_store_sales:numerical</td>\n",
       "    </tr>\n",
       "  </tbody>\n",
       "</table>\n",
       "<p>126 rows × 7 columns</p>\n",
       "</div>"
      ],
      "text/plain": [
       "        time_ms                                             kernel  run_id  \\\n",
       "0      0.244350  EvalObliviousTrees(uchar4 const *, unsigned in...       0   \n",
       "1      0.261182  EvalObliviousTrees(uchar4 const *, unsigned in...       1   \n",
       "2      0.242590  EvalObliviousTrees(uchar4 const *, unsigned in...       2   \n",
       "3      0.259357  EvalObliviousTrees(uchar4 const *, unsigned in...       0   \n",
       "4      0.262686  EvalObliviousTrees(uchar4 const *, unsigned in...       1   \n",
       "..          ...                                                ...     ...   \n",
       "121   36.877372  void xgboost::predictor::PredictKernel<xgboost...       1   \n",
       "122   37.644087  void xgboost::predictor::PredictKernel<xgboost...       2   \n",
       "123  357.568274  void xgboost::predictor::PredictKernel<xgboost...       0   \n",
       "124  343.221714  void xgboost::predictor::PredictKernel<xgboost...       1   \n",
       "125  342.782582  void xgboost::predictor::PredictKernel<xgboost...       2   \n",
       "\n",
       "     batch_size  time_proportion     model                         dataset  \n",
       "0             1         0.854619  catboost       churn_modelling:numerical  \n",
       "1             1         0.864343  catboost       churn_modelling:numerical  \n",
       "2             1         0.852276  catboost       churn_modelling:numerical  \n",
       "3             4         0.861866  catboost       churn_modelling:numerical  \n",
       "4             4         0.863562  catboost       churn_modelling:numerical  \n",
       "..          ...              ...       ...                             ...  \n",
       "121       37640         0.670699   xgboost  rossmann_store_sales:numerical  \n",
       "122       37640         0.701865   xgboost  rossmann_store_sales:numerical  \n",
       "123      524288         0.856416   xgboost  rossmann_store_sales:numerical  \n",
       "124      524288         0.844479   xgboost  rossmann_store_sales:numerical  \n",
       "125      524288         0.854210   xgboost  rossmann_store_sales:numerical  \n",
       "\n",
       "[126 rows x 7 columns]"
      ]
     },
     "execution_count": 8,
     "metadata": {},
     "output_type": "execute_result"
    }
   ],
   "source": [
    "results_df"
   ]
  },
  {
   "cell_type": "markdown",
   "id": "96ea67f1-bdbe-4775-ba08-e128a1668526",
   "metadata": {},
   "source": [
    "### Plot Profiling Results: Saturation Point for All Datasets"
   ]
  },
  {
   "cell_type": "code",
   "execution_count": 9,
   "id": "41fde2be-646d-4854-af83-ba93dee2c4ee",
   "metadata": {},
   "outputs": [
    {
     "name": "stderr",
     "output_type": "stream",
     "text": [
      "R[write to console]: \n",
      "Attaching package: ‘dplyr’\n",
      "\n",
      "\n",
      "R[write to console]: The following objects are masked from ‘package:stats’:\n",
      "\n",
      "    filter, lag\n",
      "\n",
      "\n",
      "R[write to console]: The following objects are masked from ‘package:base’:\n",
      "\n",
      "    intersect, setdiff, setequal, union\n",
      "\n",
      "\n"
     ]
    }
   ],
   "source": [
    "%%R -i results_df\n",
    "\n",
    "library(stringr)\n",
    "library(dplyr)\n",
    "library(ggplot2)\n",
    "\n",
    "results_df = results_df %>%\n",
    "mutate(dataset_label = str_split_fixed(dataset, fixed(\":\"), 2)[, 1 ],\n",
    "       time_ms = as.numeric(time_ms),\n",
    "       group = paste(model, \": \", dataset_label, sep = \"\")) %>%\n",
    "group_by(dataset_label) %>%\n",
    "mutate(throughput = (batch_size / time_ms)) %>%\n",
    "ungroup() %>%\n",
    "group_by(interaction(dataset_label, as.factor(batch_size))) %>%\n",
    "mutate(mean_throughput = mean(throughput)) %>%\n",
    "ungroup()\n",
    "\n",
    "ggplot() +\n",
    "    geom_line(data = results_df,\n",
    "              size = 1.8,\n",
    "              alpha = 0.6,\n",
    "              aes(x = batch_size,\n",
    "                  y = mean_throughput,\n",
    "                  color = group)) +\n",
    "    geom_point(data = results_df,\n",
    "               size = 3,\n",
    "               aes(x = batch_size,\n",
    "                   y = throughput,\n",
    "                   color = group)) +\n",
    "    ylab(\"GPU Throughput (ksamples/s)\") +\n",
    "    xlab(\"Samples\") +\n",
    "    #scale_x_continuous(trans = \"log2\") +\n",
    "    scale_color_brewer(palette = \"Dark2\") +\n",
    "    facet_wrap(group ~ ., scales = \"free\") +\n",
    "    theme_bw(base_size = 18) +\n",
    "    theme(legend.position = c(0.55, 0.2),\n",
    "          legend.text = element_text(size = 12),\n",
    "          legend.title = element_blank(),\n",
    "          legend.background = element_rect(fill = \"transparent\"))\n",
    "    \n",
    "ggsave(filename = \"../data/profiling_results/throughput_saturation_P100.pdf\", width = 20, height = 10, dpi = 300)"
   ]
  },
  {
   "cell_type": "markdown",
   "id": "67ae3ee8-28b3-4a50-ab25-19216bcbb8b8",
   "metadata": {},
   "source": [
    "### Latency and Throughput"
   ]
  },
  {
   "cell_type": "code",
   "execution_count": 10,
   "id": "43208056-c78f-4662-91b1-afec7ef89d1c",
   "metadata": {},
   "outputs": [],
   "source": [
    "%%R -i results_df\n",
    "\n",
    "library(stringr)\n",
    "library(dplyr)\n",
    "library(ggplot2)\n",
    "library(tidyr)\n",
    "library(ggforce)\n",
    "library(patchwork)\n",
    "\n",
    "results_df = results_df %>%\n",
    "mutate(dataset_label = str_split_fixed(dataset, fixed(\":\"), 2)[, 1 ],\n",
    "       time_ms = as.numeric(time_ms),\n",
    "       group = paste(model, \": \", dataset_label, sep = \"\")) %>%\n",
    "group_by(dataset_label) %>%\n",
    "mutate(throughput = (batch_size / time_ms)) %>%\n",
    "ungroup() %>%\n",
    "group_by(interaction(dataset_label, as.factor(batch_size))) %>%\n",
    "mutate(mean_throughput = mean(throughput)) %>%\n",
    "ungroup() %>%\n",
    "group_by(dataset_label) %>%\n",
    "mutate(max_throughput = max(throughput),\n",
    "       latency = min(time_ms) * 1e6) %>%\n",
    "ungroup() %>%\n",
    "pivot_longer(cols = c(\"max_throughput\", \"latency\"),\n",
    "             names_to = \"performance_metric\",\n",
    "             values_to = \"metric_value\") %>%\n",
    "mutate(performance_metric =  recode_factor(performance_metric,\n",
    "                                           max_throughput = \"Throughput (ksamples/s)\",\n",
    "                                           latency = \"Latency (ns)\"))\n",
    "\n",
    "\n",
    "ggplot() +\n",
    "    geom_point(data = results_df,\n",
    "               size = 3,\n",
    "               stat = \"unique\",\n",
    "               aes(x = group,\n",
    "                   y = metric_value,\n",
    "                   color = group)) +\n",
    "    facet_col(vars(performance_metric), scales = \"free\") +\n",
    "    ylab(\"GPU Performance Metric (log10 scale)\") +\n",
    "    xlab(\"Model and Dataset\") +\n",
    "    scale_color_brewer(palette = \"Dark2\") +\n",
    "    scale_y_continuous(trans = \"log10\") +\n",
    "    theme_minimal(base_size = 18) +\n",
    "    theme(legend.position = c(0.1, 0.9),\n",
    "          legend.text = element_text(size = 12),\n",
    "          legend.title = element_blank(),\n",
    "          legend.background = element_rect(fill = \"transparent\"),\n",
    "          axis.text.x = element_text(size = 10))\n",
    "    \n",
    "ggsave(filename = \"../data/profiling_results/latency_throughput_P100.pdf\", width = 20, height = 10, dpi = 300)"
   ]
  }
 ],
 "metadata": {
  "kernelspec": {
   "display_name": "Python 3 (ipykernel)",
   "language": "python",
   "name": "python3"
  },
  "language_info": {
   "codemirror_mode": {
    "name": "ipython",
    "version": 3
   },
   "file_extension": ".py",
   "mimetype": "text/x-python",
   "name": "python",
   "nbconvert_exporter": "python",
   "pygments_lexer": "ipython3",
   "version": "3.9.13"
  }
 },
 "nbformat": 4,
 "nbformat_minor": 5
}
