{
 "cells": [
  {
   "cell_type": "code",
   "execution_count": 1,
   "id": "517f460b-3e86-4f50-b439-29a5fd872af5",
   "metadata": {},
   "outputs": [],
   "source": [
    "%load_ext autoreload\n",
    "%autoreload 2\n",
    "\n",
    "import sys\n",
    "import os\n",
    "import numpy as np\n",
    "import pandas as pd\n",
    "module_path = os.path.abspath(os.path.join(\"..\"))\n",
    "\n",
    "code_dir = \"src\"\n",
    "code_path = os.path.join(module_path, code_dir)\n",
    "if code_path not in sys.path:\n",
    "    sys.path.append(code_path)\n",
    "\n",
    "from compiler import (extract_thresholds,\n",
    "                       map_to_ubyte)\n",
    "\n",
    "import xgboost as xgb\n",
    "from sklearn.datasets import make_classification\n",
    "from sklearn.model_selection import train_test_split"
   ]
  },
  {
   "cell_type": "markdown",
   "id": "b10f5c12-7016-4512-ae54-9fc74839b51a",
   "metadata": {},
   "source": [
    "# Generate X-TIME threshold map from new model"
   ]
  },
  {
   "cell_type": "markdown",
   "id": "1e383088-74a8-4968-892b-4e251eaed17e",
   "metadata": {},
   "source": [
    "### Create example data"
   ]
  },
  {
   "cell_type": "code",
   "execution_count": 2,
   "id": "6bf959bc-d7be-4f8a-86b6-8e77b087867b",
   "metadata": {},
   "outputs": [],
   "source": [
    "X, y = make_classification(n_samples=100, \n",
    "                           n_informative=5,\n",
    "                           n_classes=2)\n",
    "X_train, X_test, y_train, y_test = train_test_split(X, y, test_size=0.25)"
   ]
  },
  {
   "cell_type": "markdown",
   "id": "15547926-7f41-4bc5-b8d4-a8894c64b7cf",
   "metadata": {},
   "source": [
    "### Train XGBoost model"
   ]
  },
  {
   "cell_type": "code",
   "execution_count": 3,
   "id": "6f651330-bb3e-4379-8e57-bf93e59b4b56",
   "metadata": {},
   "outputs": [
    {
     "data": {
      "text/plain": [
       "0.72"
      ]
     },
     "execution_count": 3,
     "metadata": {},
     "output_type": "execute_result"
    }
   ],
   "source": [
    "model_xgb = xgb.XGBClassifier(max_depth = 3,n_estimators = 10,max_bin = 256)\n",
    "model_xgb.fit(X_train,y_train);\n",
    "model_xgb.score(X_test,y_test)"
   ]
  },
  {
   "cell_type": "markdown",
   "id": "ae6715cb-4bf7-4ef6-97c5-17b9080fe40b",
   "metadata": {},
   "source": [
    "### Extract threshold map"
   ]
  },
  {
   "cell_type": "code",
   "execution_count": 4,
   "id": "ef022f6f-fda8-4c4a-ab36-9e23c6f29246",
   "metadata": {},
   "outputs": [
    {
     "name": "stdout",
     "output_type": "stream",
     "text": [
      "Processing tree 0.0 elapsed time 0.017750978469848633\n"
     ]
    }
   ],
   "source": [
    "acam_map = extract_thresholds(model_xgb.get_booster(),algorithm='xgboost',task='BINARY_CLASSIFICATION')"
   ]
  },
  {
   "cell_type": "markdown",
   "id": "e1a099ea-4bbc-4a10-ab32-8933b84b149c",
   "metadata": {},
   "source": [
    "### Convert threshold map and X_test to ubyte (X-TIME accept only 8 bit thresholds)"
   ]
  },
  {
   "cell_type": "code",
   "execution_count": 5,
   "id": "be602607-7c06-4fd4-abbd-08f3658909e2",
   "metadata": {},
   "outputs": [],
   "source": [
    "acam_map_quant, X_test_quant = map_to_ubyte(cam_map = acam_map*1,X_test = X_test*1)"
   ]
  },
  {
   "cell_type": "code",
   "execution_count": null,
   "id": "8764b61f-b733-45b5-b0f3-2b1f6950f12d",
   "metadata": {},
   "outputs": [],
   "source": []
  }
 ],
 "metadata": {
  "kernelspec": {
   "display_name": "Python 3 (ipykernel)",
   "language": "python",
   "name": "python3"
  },
  "language_info": {
   "codemirror_mode": {
    "name": "ipython",
    "version": 3
   },
   "file_extension": ".py",
   "mimetype": "text/x-python",
   "name": "python",
   "nbconvert_exporter": "python",
   "pygments_lexer": "ipython3",
   "version": "3.9.13"
  }
 },
 "nbformat": 4,
 "nbformat_minor": 5
}
